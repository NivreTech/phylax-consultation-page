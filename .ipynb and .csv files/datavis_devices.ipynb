{
 "cells": [
  {
   "cell_type": "code",
   "execution_count": 1,
   "id": "895f170c",
   "metadata": {},
   "outputs": [],
   "source": [
    "import pandas as pd\n",
    "import numpy as np\n",
    "from scipy.stats import chi2_contingency\n",
    "from datetime import datetime\n",
    "import seaborn as sns\n",
    "import matplotlib.pyplot as plt\n",
    "from tensorflow import keras\n",
    "from tensorflow.keras import layers\n",
    "import tensorflow as tf"
   ]
  },
  {
   "cell_type": "code",
   "execution_count": 2,
   "id": "53cf5f35",
   "metadata": {},
   "outputs": [
    {
     "data": {
      "text/html": [
       "<div>\n",
       "<style scoped>\n",
       "    .dataframe tbody tr th:only-of-type {\n",
       "        vertical-align: middle;\n",
       "    }\n",
       "\n",
       "    .dataframe tbody tr th {\n",
       "        vertical-align: top;\n",
       "    }\n",
       "\n",
       "    .dataframe thead th {\n",
       "        text-align: right;\n",
       "    }\n",
       "</style>\n",
       "<table border=\"1\" class=\"dataframe\">\n",
       "  <thead>\n",
       "    <tr style=\"text-align: right;\">\n",
       "      <th></th>\n",
       "      <th>Id</th>\n",
       "      <th>BIRTHDATE</th>\n",
       "      <th>DEATHDATE</th>\n",
       "      <th>SSN</th>\n",
       "      <th>DRIVERS</th>\n",
       "      <th>PASSPORT</th>\n",
       "      <th>PREFIX</th>\n",
       "      <th>FIRST</th>\n",
       "      <th>LAST</th>\n",
       "      <th>SUFFIX</th>\n",
       "      <th>...</th>\n",
       "      <th>LON</th>\n",
       "      <th>HEALTHCARE_EXPENSES</th>\n",
       "      <th>HEALTHCARE_COVERAGE</th>\n",
       "      <th>START</th>\n",
       "      <th>STOP</th>\n",
       "      <th>PATIENT</th>\n",
       "      <th>ENCOUNTER</th>\n",
       "      <th>CODE</th>\n",
       "      <th>DESCRIPTION</th>\n",
       "      <th>UDI</th>\n",
       "    </tr>\n",
       "  </thead>\n",
       "  <tbody>\n",
       "    <tr>\n",
       "      <th>0</th>\n",
       "      <td>d49f748f-928d-40e8-92c8-73e4c5679711</td>\n",
       "      <td>1967-06-14</td>\n",
       "      <td>NaN</td>\n",
       "      <td>999-15-5162</td>\n",
       "      <td>S99979086</td>\n",
       "      <td>X15362198X</td>\n",
       "      <td>Mr.</td>\n",
       "      <td>Wesley533</td>\n",
       "      <td>Rau926</td>\n",
       "      <td>NaN</td>\n",
       "      <td>...</td>\n",
       "      <td>-70.987997</td>\n",
       "      <td>1096170.87</td>\n",
       "      <td>5593.56</td>\n",
       "      <td>2001-07-04T08:42:44Z</td>\n",
       "      <td>NaT</td>\n",
       "      <td>d49f748f-928d-40e8-92c8-73e4c5679711</td>\n",
       "      <td>2500b8bd-dc98-44ef-a252-22dc4f81d61b</td>\n",
       "      <td>72506001</td>\n",
       "      <td>Implantable defibrillator  device (physical ob...</td>\n",
       "      <td>(01)67677988606464(11)010613(17)260628(10)2882...</td>\n",
       "    </tr>\n",
       "    <tr>\n",
       "      <th>1</th>\n",
       "      <td>e05dd037-e45f-434a-946d-5c9076a2f596</td>\n",
       "      <td>1986-08-24</td>\n",
       "      <td>NaN</td>\n",
       "      <td>999-55-3968</td>\n",
       "      <td>S99953884</td>\n",
       "      <td>X47091743X</td>\n",
       "      <td>Mrs.</td>\n",
       "      <td>Jesus702</td>\n",
       "      <td>Hickle134</td>\n",
       "      <td>NaN</td>\n",
       "      <td>...</td>\n",
       "      <td>-71.448841</td>\n",
       "      <td>691393.45</td>\n",
       "      <td>9822.64</td>\n",
       "      <td>2010-10-24T05:28:51Z</td>\n",
       "      <td>NaT</td>\n",
       "      <td>e05dd037-e45f-434a-946d-5c9076a2f596</td>\n",
       "      <td>83cda5b1-4653-4327-a81c-14c4af434e95</td>\n",
       "      <td>72506001</td>\n",
       "      <td>Implantable defibrillator  device (physical ob...</td>\n",
       "      <td>(01)20180595258346(11)101003(17)351018(10)1391...</td>\n",
       "    </tr>\n",
       "    <tr>\n",
       "      <th>2</th>\n",
       "      <td>0f5646bc-a156-4ec0-9252-5b592e3d3184</td>\n",
       "      <td>1997-12-14</td>\n",
       "      <td>NaN</td>\n",
       "      <td>999-45-8311</td>\n",
       "      <td>S99971449</td>\n",
       "      <td>X22361696X</td>\n",
       "      <td>Mr.</td>\n",
       "      <td>Mickey576</td>\n",
       "      <td>Crist667</td>\n",
       "      <td>NaN</td>\n",
       "      <td>...</td>\n",
       "      <td>-70.924353</td>\n",
       "      <td>482002.73</td>\n",
       "      <td>3627.16</td>\n",
       "      <td>2017-06-04T11:11:47Z</td>\n",
       "      <td>NaT</td>\n",
       "      <td>0f5646bc-a156-4ec0-9252-5b592e3d3184</td>\n",
       "      <td>7302a9ce-5845-456d-af2e-bca7a1fc387f</td>\n",
       "      <td>72506001</td>\n",
       "      <td>Implantable defibrillator  device (physical ob...</td>\n",
       "      <td>(01)87988924478445(11)170514(17)420529(10)4143...</td>\n",
       "    </tr>\n",
       "    <tr>\n",
       "      <th>3</th>\n",
       "      <td>44c8b4c8-4457-4ba0-94b6-285ef327a249</td>\n",
       "      <td>1941-03-25</td>\n",
       "      <td>1989-01-17</td>\n",
       "      <td>999-33-7429</td>\n",
       "      <td>S99993402</td>\n",
       "      <td>X83558016X</td>\n",
       "      <td>Mr.</td>\n",
       "      <td>Jamey282</td>\n",
       "      <td>Hermiston71</td>\n",
       "      <td>NaN</td>\n",
       "      <td>...</td>\n",
       "      <td>-71.412812</td>\n",
       "      <td>986340.62</td>\n",
       "      <td>3392.04</td>\n",
       "      <td>1989-01-17T18:12:03Z</td>\n",
       "      <td>NaT</td>\n",
       "      <td>44c8b4c8-4457-4ba0-94b6-285ef327a249</td>\n",
       "      <td>7db01f61-e637-4e41-9067-0168524c991f</td>\n",
       "      <td>705643001</td>\n",
       "      <td>Coronary artery stent (physical object)</td>\n",
       "      <td>(01)30831895165484(11)881227(17)140111(10)7597...</td>\n",
       "    </tr>\n",
       "    <tr>\n",
       "      <th>4</th>\n",
       "      <td>89752052-a38b-45f0-a590-3950bbb67bec</td>\n",
       "      <td>1954-07-29</td>\n",
       "      <td>NaN</td>\n",
       "      <td>999-15-6463</td>\n",
       "      <td>S99971913</td>\n",
       "      <td>X43982733X</td>\n",
       "      <td>Mrs.</td>\n",
       "      <td>Laverna97</td>\n",
       "      <td>Cartwright189</td>\n",
       "      <td>NaN</td>\n",
       "      <td>...</td>\n",
       "      <td>-70.826551</td>\n",
       "      <td>1322856.00</td>\n",
       "      <td>12597.56</td>\n",
       "      <td>1973-07-19T04:25:46Z</td>\n",
       "      <td>NaT</td>\n",
       "      <td>89752052-a38b-45f0-a590-3950bbb67bec</td>\n",
       "      <td>e73fe5e1-1b13-4368-b52f-673cbf1f3540</td>\n",
       "      <td>72506001</td>\n",
       "      <td>Implantable defibrillator  device (physical ob...</td>\n",
       "      <td>(01)71767722231489(11)730628(17)980713(10)6519...</td>\n",
       "    </tr>\n",
       "  </tbody>\n",
       "</table>\n",
       "<p>5 rows × 32 columns</p>\n",
       "</div>"
      ],
      "text/plain": [
       "                                     Id   BIRTHDATE   DEATHDATE          SSN  \\\n",
       "0  d49f748f-928d-40e8-92c8-73e4c5679711  1967-06-14         NaN  999-15-5162   \n",
       "1  e05dd037-e45f-434a-946d-5c9076a2f596  1986-08-24         NaN  999-55-3968   \n",
       "2  0f5646bc-a156-4ec0-9252-5b592e3d3184  1997-12-14         NaN  999-45-8311   \n",
       "3  44c8b4c8-4457-4ba0-94b6-285ef327a249  1941-03-25  1989-01-17  999-33-7429   \n",
       "4  89752052-a38b-45f0-a590-3950bbb67bec  1954-07-29         NaN  999-15-6463   \n",
       "\n",
       "     DRIVERS    PASSPORT PREFIX      FIRST           LAST SUFFIX  ...  \\\n",
       "0  S99979086  X15362198X    Mr.  Wesley533         Rau926    NaN  ...   \n",
       "1  S99953884  X47091743X   Mrs.   Jesus702      Hickle134    NaN  ...   \n",
       "2  S99971449  X22361696X    Mr.  Mickey576       Crist667    NaN  ...   \n",
       "3  S99993402  X83558016X    Mr.   Jamey282    Hermiston71    NaN  ...   \n",
       "4  S99971913  X43982733X   Mrs.  Laverna97  Cartwright189    NaN  ...   \n",
       "\n",
       "         LON HEALTHCARE_EXPENSES HEALTHCARE_COVERAGE                 START  \\\n",
       "0 -70.987997          1096170.87             5593.56  2001-07-04T08:42:44Z   \n",
       "1 -71.448841           691393.45             9822.64  2010-10-24T05:28:51Z   \n",
       "2 -70.924353           482002.73             3627.16  2017-06-04T11:11:47Z   \n",
       "3 -71.412812           986340.62             3392.04  1989-01-17T18:12:03Z   \n",
       "4 -70.826551          1322856.00            12597.56  1973-07-19T04:25:46Z   \n",
       "\n",
       "  STOP                               PATIENT  \\\n",
       "0  NaT  d49f748f-928d-40e8-92c8-73e4c5679711   \n",
       "1  NaT  e05dd037-e45f-434a-946d-5c9076a2f596   \n",
       "2  NaT  0f5646bc-a156-4ec0-9252-5b592e3d3184   \n",
       "3  NaT  44c8b4c8-4457-4ba0-94b6-285ef327a249   \n",
       "4  NaT  89752052-a38b-45f0-a590-3950bbb67bec   \n",
       "\n",
       "                              ENCOUNTER       CODE  \\\n",
       "0  2500b8bd-dc98-44ef-a252-22dc4f81d61b   72506001   \n",
       "1  83cda5b1-4653-4327-a81c-14c4af434e95   72506001   \n",
       "2  7302a9ce-5845-456d-af2e-bca7a1fc387f   72506001   \n",
       "3  7db01f61-e637-4e41-9067-0168524c991f  705643001   \n",
       "4  e73fe5e1-1b13-4368-b52f-673cbf1f3540   72506001   \n",
       "\n",
       "                                         DESCRIPTION  \\\n",
       "0  Implantable defibrillator  device (physical ob...   \n",
       "1  Implantable defibrillator  device (physical ob...   \n",
       "2  Implantable defibrillator  device (physical ob...   \n",
       "3            Coronary artery stent (physical object)   \n",
       "4  Implantable defibrillator  device (physical ob...   \n",
       "\n",
       "                                                 UDI  \n",
       "0  (01)67677988606464(11)010613(17)260628(10)2882...  \n",
       "1  (01)20180595258346(11)101003(17)351018(10)1391...  \n",
       "2  (01)87988924478445(11)170514(17)420529(10)4143...  \n",
       "3  (01)30831895165484(11)881227(17)140111(10)7597...  \n",
       "4  (01)71767722231489(11)730628(17)980713(10)6519...  \n",
       "\n",
       "[5 rows x 32 columns]"
      ]
     },
     "execution_count": 2,
     "metadata": {},
     "output_type": "execute_result"
    }
   ],
   "source": [
    "df1 = pd.read_csv('patients.csv')\n",
    "df2 = pd.read_csv('devices.csv', parse_dates=['STOP'])\n",
    "df_al = df1.merge(df2, left_on = 'Id', right_on = 'PATIENT')\n",
    "df_al.head()"
   ]
  },
  {
   "cell_type": "code",
   "execution_count": 3,
   "id": "9dbfd874",
   "metadata": {},
   "outputs": [
    {
     "data": {
      "text/plain": [
       "array([], dtype='datetime64[ns]')"
      ]
     },
     "execution_count": 3,
     "metadata": {},
     "output_type": "execute_result"
    }
   ],
   "source": [
    "dt_stop = df_al['STOP'].dropna()\n",
    "dt_stop = dt_stop.unique()\n",
    "dt_stop"
   ]
  },
  {
   "cell_type": "code",
   "execution_count": 4,
   "id": "a0ca39d9",
   "metadata": {},
   "outputs": [
    {
     "data": {
      "text/plain": [
       "0     0\n",
       "1     0\n",
       "2     0\n",
       "3     0\n",
       "4     0\n",
       "     ..\n",
       "73    0\n",
       "74    0\n",
       "75    0\n",
       "76    0\n",
       "77    0\n",
       "Name: STOP, Length: 78, dtype: object"
      ]
     },
     "execution_count": 4,
     "metadata": {},
     "output_type": "execute_result"
    }
   ],
   "source": [
    "df_al['STOP'] = df_al['STOP'].replace(dt_stop, np.full(len(dt_stop), 1))\n",
    "df_al['STOP'] = df_al['STOP'].replace({pd.NaT: \"0\"})\n",
    "df_al['STOP']"
   ]
  },
  {
   "cell_type": "code",
   "execution_count": 5,
   "id": "decd53f1",
   "metadata": {},
   "outputs": [
    {
     "data": {
      "text/html": [
       "<div>\n",
       "<style scoped>\n",
       "    .dataframe tbody tr th:only-of-type {\n",
       "        vertical-align: middle;\n",
       "    }\n",
       "\n",
       "    .dataframe tbody tr th {\n",
       "        vertical-align: top;\n",
       "    }\n",
       "\n",
       "    .dataframe thead th {\n",
       "        text-align: right;\n",
       "    }\n",
       "</style>\n",
       "<table border=\"1\" class=\"dataframe\">\n",
       "  <thead>\n",
       "    <tr style=\"text-align: right;\">\n",
       "      <th>DESCRIPTION</th>\n",
       "      <th>Coronary artery stent (physical object)</th>\n",
       "      <th>Implantable cardiac pacemaker (physical object)</th>\n",
       "      <th>Implantable defibrillator  device (physical object)</th>\n",
       "    </tr>\n",
       "    <tr>\n",
       "      <th>STOP</th>\n",
       "      <th></th>\n",
       "      <th></th>\n",
       "      <th></th>\n",
       "    </tr>\n",
       "  </thead>\n",
       "  <tbody>\n",
       "    <tr>\n",
       "      <th>0</th>\n",
       "      <td>21</td>\n",
       "      <td>10</td>\n",
       "      <td>47</td>\n",
       "    </tr>\n",
       "  </tbody>\n",
       "</table>\n",
       "</div>"
      ],
      "text/plain": [
       "DESCRIPTION  Coronary artery stent (physical object)  \\\n",
       "STOP                                                   \n",
       "0                                                 21   \n",
       "\n",
       "DESCRIPTION  Implantable cardiac pacemaker (physical object)  \\\n",
       "STOP                                                           \n",
       "0                                                         10   \n",
       "\n",
       "DESCRIPTION  Implantable defibrillator  device (physical object)  \n",
       "STOP                                                              \n",
       "0                                                           47    "
      ]
     },
     "execution_count": 5,
     "metadata": {},
     "output_type": "execute_result"
    }
   ],
   "source": [
    "contigency = pd.crosstab(df_al['STOP'], df_al['DESCRIPTION'])\n",
    "contigency"
   ]
  },
  {
   "cell_type": "code",
   "execution_count": 6,
   "id": "be3435d6",
   "metadata": {},
   "outputs": [
    {
     "data": {
      "text/plain": [
       "<AxesSubplot:xlabel='DESCRIPTION', ylabel='STOP'>"
      ]
     },
     "execution_count": 6,
     "metadata": {},
     "output_type": "execute_result"
    },
    {
     "data": {
      "image/png": "[encoded data removed]",
      "text/plain": [
       "<Figure size 432x288 with 2 Axes>"
      ]
     },
     "metadata": {
      "needs_background": "light"
     },
     "output_type": "display_data"
    }
   ],
   "source": [
    "plt.figure(figsize=(6,4))\n",
    "sns.heatmap(contigency, annot=True, cmap=\"YlGnBu\")"
   ]
  },
  {
   "cell_type": "code",
   "execution_count": 7,
   "id": "3f07ed8e",
   "metadata": {},
   "outputs": [
    {
     "data": {
      "text/plain": [
       "1.0"
      ]
     },
     "execution_count": 7,
     "metadata": {},
     "output_type": "execute_result"
    }
   ],
   "source": [
    "c, p, dof, expected = chi2_contingency(contigency)\n",
    "p"
   ]
  },
  {
   "cell_type": "code",
   "execution_count": 8,
   "id": "a0bdc498-dfc2-4602-9f89-aa852439f282",
   "metadata": {},
   "outputs": [],
   "source": [
    "features_column = ['RACE', 'ETHNICITY', 'GENDER', 'DESCRIPTION']\n",
    "label_column = ['STOP']"
   ]
  },
  {
   "cell_type": "code",
   "execution_count": 9,
   "id": "06de251f-ed14-4937-8a8d-ea6f84efcea5",
   "metadata": {},
   "outputs": [
    {
     "name": "stdout",
     "output_type": "stream",
     "text": [
      "{'RACE': Index(['asian', 'black', 'native', 'white'], dtype='object'), 'ETHNICITY': Index(['hispanic', 'nonhispanic'], dtype='object'), 'GENDER': Index(['F', 'M'], dtype='object'), 'DESCRIPTION': Index(['Coronary artery stent (physical object)',\n",
      "       'Implantable cardiac pacemaker (physical object)',\n",
      "       'Implantable defibrillator  device (physical object)'],\n",
      "      dtype='object')}\n"
     ]
    },
    {
     "name": "stderr",
     "output_type": "stream",
     "text": [
      "<ipython-input-9-452f4aa08d9e>:2: SettingWithCopyWarning: \n",
      "A value is trying to be set on a copy of a slice from a DataFrame.\n",
      "Try using .loc[row_indexer,col_indexer] = value instead\n",
      "\n",
      "See the caveats in the documentation: https://pandas.pydata.org/pandas-docs/stable/user_guide/indexing.html#returning-a-view-versus-a-copy\n",
      "  dataset['STOP'] = dataset['STOP'].astype('int32')\n",
      "<ipython-input-9-452f4aa08d9e>:9: SettingWithCopyWarning: \n",
      "A value is trying to be set on a copy of a slice from a DataFrame.\n",
      "Try using .loc[row_indexer,col_indexer] = value instead\n",
      "\n",
      "See the caveats in the documentation: https://pandas.pydata.org/pandas-docs/stable/user_guide/indexing.html#returning-a-view-versus-a-copy\n",
      "  dataset[feature_name] = dataset[feature_name].astype('category')\n",
      "<ipython-input-9-452f4aa08d9e>:11: SettingWithCopyWarning: \n",
      "A value is trying to be set on a copy of a slice from a DataFrame.\n",
      "Try using .loc[row_indexer,col_indexer] = value instead\n",
      "\n",
      "See the caveats in the documentation: https://pandas.pydata.org/pandas-docs/stable/user_guide/indexing.html#returning-a-view-versus-a-copy\n",
      "  dataset[feature_name] = dataset[feature_name].astype('category').cat.codes\n"
     ]
    }
   ],
   "source": [
    "dataset = df_al[features_column + label_column]\n",
    "dataset['STOP'] = dataset['STOP'].astype('int32')\n",
    "\n",
    "#reference for numerical categories\n",
    "categorical_dict = {}\n",
    "\n",
    "#convert categorical data into numerical data\n",
    "for feature_name in features_column:\n",
    "    dataset[feature_name] = dataset[feature_name].astype('category')\n",
    "    categorical_dict.update({feature_name: dataset[feature_name].cat.categories})\n",
    "    dataset[feature_name] = dataset[feature_name].astype('category').cat.codes\n",
    "    \n",
    "print(categorical_dict)"
   ]
  },
  {
   "cell_type": "code",
   "execution_count": 10,
   "id": "a6926091-0185-43d3-bc5e-d464b69f6b45",
   "metadata": {},
   "outputs": [],
   "source": [
    "train_dataset = dataset.sample(frac=0.8, random_state=0)\n",
    "test_dataset = dataset.drop(train_dataset.index)"
   ]
  },
  {
   "cell_type": "code",
   "execution_count": 11,
   "id": "ba52cc8c-6047-450d-b8cf-daa1dbdfedf1",
   "metadata": {},
   "outputs": [],
   "source": [
    "train_features = train_dataset.copy()\n",
    "test_features = test_dataset.copy()\n",
    "\n",
    "train_labels = train_features.pop('STOP')\n",
    "test_labels = test_features.pop('STOP')"
   ]
  },
  {
   "cell_type": "code",
   "execution_count": 12,
   "id": "45fff56a-418f-4326-8645-6b0a7574d0a1",
   "metadata": {},
   "outputs": [],
   "source": [
    "def build_and_compile_model():\n",
    "  model = keras.Sequential([\n",
    "      layers.Dense(len(features_column)),\n",
    "      layers.Dense(64, activation = 'relu'),\n",
    "      layers.Dense(1)\n",
    "  ])\n",
    "\n",
    "  model.compile(loss = 'mean_absolute_error', metrics = ['accuracy'],\n",
    "                optimizer = 'adam')\n",
    "  return model"
   ]
  },
  {
   "cell_type": "code",
   "execution_count": 13,
   "id": "a5c9b71d-6cbb-4d10-ad48-895bf0007b58",
   "metadata": {},
   "outputs": [],
   "source": [
    "model = build_and_compile_model()"
   ]
  },
  {
   "cell_type": "code",
   "execution_count": 14,
   "id": "62b54e69-602e-41df-adce-c41c3643043a",
   "metadata": {},
   "outputs": [
    {
     "name": "stdout",
     "output_type": "stream",
     "text": [
      "Epoch 1/100\n",
      "2/2 [==============================] - 0s 113ms/step - loss: 1.1326 - accuracy: 0.0816 - val_loss: 1.0555 - val_accuracy: 0.0769\n",
      "Epoch 2/100\n",
      "2/2 [==============================] - 0s 16ms/step - loss: 1.0234 - accuracy: 0.0816 - val_loss: 0.9477 - val_accuracy: 0.0769\n",
      "Epoch 3/100\n",
      "2/2 [==============================] - 0s 16ms/step - loss: 0.9150 - accuracy: 0.1020 - val_loss: 0.8413 - val_accuracy: 0.1538\n",
      "Epoch 4/100\n",
      "2/2 [==============================] - 0s 15ms/step - loss: 0.8073 - accuracy: 0.1837 - val_loss: 0.7356 - val_accuracy: 0.1538\n",
      "Epoch 5/100\n",
      "2/2 [==============================] - 0s 16ms/step - loss: 0.7043 - accuracy: 0.1837 - val_loss: 0.6310 - val_accuracy: 0.2308\n",
      "Epoch 6/100\n",
      "2/2 [==============================] - 0s 15ms/step - loss: 0.5999 - accuracy: 0.3469 - val_loss: 0.5271 - val_accuracy: 0.3846\n",
      "Epoch 7/100\n",
      "2/2 [==============================] - 0s 15ms/step - loss: 0.4985 - accuracy: 0.4490 - val_loss: 0.4244 - val_accuracy: 0.4615\n",
      "Epoch 8/100\n",
      "2/2 [==============================] - 0s 15ms/step - loss: 0.3972 - accuracy: 0.5918 - val_loss: 0.3212 - val_accuracy: 0.8462\n",
      "Epoch 9/100\n",
      "2/2 [==============================] - 0s 15ms/step - loss: 0.2986 - accuracy: 0.8776 - val_loss: 0.2183 - val_accuracy: 1.0000\n",
      "Epoch 10/100\n",
      "2/2 [==============================] - 0s 15ms/step - loss: 0.2065 - accuracy: 1.0000 - val_loss: 0.1276 - val_accuracy: 1.0000\n",
      "Epoch 11/100\n",
      "2/2 [==============================] - 0s 15ms/step - loss: 0.1388 - accuracy: 1.0000 - val_loss: 0.0759 - val_accuracy: 1.0000\n",
      "Epoch 12/100\n",
      "2/2 [==============================] - 0s 15ms/step - loss: 0.0863 - accuracy: 1.0000 - val_loss: 0.0790 - val_accuracy: 1.0000\n",
      "Epoch 13/100\n",
      "2/2 [==============================] - 0s 17ms/step - loss: 0.0935 - accuracy: 1.0000 - val_loss: 0.1263 - val_accuracy: 1.0000\n",
      "Epoch 14/100\n",
      "2/2 [==============================] - 0s 15ms/step - loss: 0.1347 - accuracy: 1.0000 - val_loss: 0.1448 - val_accuracy: 1.0000\n"
     ]
    }
   ],
   "source": [
    "#fit the model\n",
    "early_stopping = tf.keras.callbacks.EarlyStopping(monitor='val_loss',\n",
    "                                            patience=3,\n",
    "                                            mode='min')\n",
    "history = model.fit(\n",
    "    train_features[features_column],\n",
    "    train_labels,\n",
    "    validation_split=0.2,\n",
    "    callbacks=early_stopping,\n",
    "    verbose=1, epochs=100)"
   ]
  },
  {
   "cell_type": "code",
   "execution_count": 15,
   "id": "5dafc675-5e98-445b-aaed-5b7590ede9e6",
   "metadata": {},
   "outputs": [
    {
     "name": "stdout",
     "output_type": "stream",
     "text": [
      "1/1 [==============================] - 0s 12ms/step - loss: 0.1326 - accuracy: 1.0000\n"
     ]
    },
    {
     "data": {
      "text/plain": [
       "[0.132602721452713, 1.0]"
      ]
     },
     "execution_count": 15,
     "metadata": {},
     "output_type": "execute_result"
    }
   ],
   "source": [
    "model.evaluate(test_features[features_column], test_labels)"
   ]
  },
  {
   "cell_type": "code",
   "execution_count": 16,
   "id": "6b3258fb-812e-48e6-95ba-9ffceffcf0de",
   "metadata": {},
   "outputs": [
    {
     "name": "stdout",
     "output_type": "stream",
     "text": [
      "INFO:tensorflow:Assets written to: model_devices\\assets\n"
     ]
    }
   ],
   "source": [
    "model.save('model_devices')"
   ]
  },
  {
   "cell_type": "code",
   "execution_count": null,
   "id": "9db2dfa9-ab80-4490-9076-9f7052908d87",
   "metadata": {},
   "outputs": [],
   "source": []
  }
 ],
 "metadata": {
  "kernelspec": {
   "display_name": "Python 3",
   "language": "python",
   "name": "python3"
  },
  "language_info": {
   "codemirror_mode": {
    "name": "ipython",
    "version": 3
   },
   "file_extension": ".py",
   "mimetype": "text/x-python",
   "name": "python",
   "nbconvert_exporter": "python",
   "pygments_lexer": "ipython3",
   "version": "3.8.8"
  }
 },
 "nbformat": 4,
 "nbformat_minor": 5
}

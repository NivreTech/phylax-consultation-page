{
 "cells": [
  {
   "cell_type": "code",
   "execution_count": 1,
   "id": "6e57a59d",
   "metadata": {},
   "outputs": [],
   "source": [
    "import pandas as pd\n",
    "import numpy as np\n",
    "from scipy.stats import chi2_contingency\n",
    "from datetime import datetime\n",
    "import seaborn as sns\n",
    "import matplotlib.pyplot as plt\n",
    "from tensorflow import keras\n",
    "from tensorflow.keras import layers\n",
    "import tensorflow as tf"
   ]
  },
  {
   "cell_type": "code",
   "execution_count": 2,
   "id": "5c268a98",
   "metadata": {},
   "outputs": [
    {
     "data": {
      "text/html": [
       "<div>\n",
       "<style scoped>\n",
       "    .dataframe tbody tr th:only-of-type {\n",
       "        vertical-align: middle;\n",
       "    }\n",
       "\n",
       "    .dataframe tbody tr th {\n",
       "        vertical-align: top;\n",
       "    }\n",
       "\n",
       "    .dataframe thead th {\n",
       "        text-align: right;\n",
       "    }\n",
       "</style>\n",
       "<table border=\"1\" class=\"dataframe\">\n",
       "  <thead>\n",
       "    <tr style=\"text-align: right;\">\n",
       "      <th></th>\n",
       "      <th>Id_x</th>\n",
       "      <th>BIRTHDATE</th>\n",
       "      <th>DEATHDATE</th>\n",
       "      <th>SSN</th>\n",
       "      <th>DRIVERS</th>\n",
       "      <th>PASSPORT</th>\n",
       "      <th>PREFIX</th>\n",
       "      <th>FIRST</th>\n",
       "      <th>LAST</th>\n",
       "      <th>SUFFIX</th>\n",
       "      <th>...</th>\n",
       "      <th>Id_y</th>\n",
       "      <th>DATE</th>\n",
       "      <th>PATIENT</th>\n",
       "      <th>ENCOUNTER</th>\n",
       "      <th>BODYSITE_CODE</th>\n",
       "      <th>BODYSITE_DESCRIPTION</th>\n",
       "      <th>MODALITY_CODE</th>\n",
       "      <th>MODALITY_DESCRIPTION</th>\n",
       "      <th>SOP_CODE</th>\n",
       "      <th>SOP_DESCRIPTION</th>\n",
       "    </tr>\n",
       "  </thead>\n",
       "  <tbody>\n",
       "    <tr>\n",
       "      <th>0</th>\n",
       "      <td>b58731cc-2d8b-4c2d-b327-4cab771af3ef</td>\n",
       "      <td>1970-05-16</td>\n",
       "      <td>NaN</td>\n",
       "      <td>999-90-2484</td>\n",
       "      <td>S99978036</td>\n",
       "      <td>X78170348X</td>\n",
       "      <td>Mrs.</td>\n",
       "      <td>Isabel214</td>\n",
       "      <td>Lucio648</td>\n",
       "      <td>NaN</td>\n",
       "      <td>...</td>\n",
       "      <td>d3e49b38-7634-4416-879d-7bc68bf3e7df</td>\n",
       "      <td>2014-07-08 15:35:36+00:00</td>\n",
       "      <td>b58731cc-2d8b-4c2d-b327-4cab771af3ef</td>\n",
       "      <td>3a36836d-da25-4e73-808b-972b669b7e4e</td>\n",
       "      <td>40983000</td>\n",
       "      <td>Arm</td>\n",
       "      <td>DX</td>\n",
       "      <td>Digital Radiography</td>\n",
       "      <td>1.2.840.10008.5.1.4.1.1.1.1</td>\n",
       "      <td>Digital X-Ray Image Storage</td>\n",
       "    </tr>\n",
       "    <tr>\n",
       "      <th>1</th>\n",
       "      <td>2ffe9369-24e4-414b-8973-258fad09313a</td>\n",
       "      <td>1958-07-01</td>\n",
       "      <td>NaN</td>\n",
       "      <td>999-76-2715</td>\n",
       "      <td>S99927965</td>\n",
       "      <td>X70120330X</td>\n",
       "      <td>Mrs.</td>\n",
       "      <td>Amada498</td>\n",
       "      <td>Reichert620</td>\n",
       "      <td>NaN</td>\n",
       "      <td>...</td>\n",
       "      <td>46baf530-4941-40ab-8219-685a08fd9086</td>\n",
       "      <td>2014-01-22 18:58:37+00:00</td>\n",
       "      <td>2ffe9369-24e4-414b-8973-258fad09313a</td>\n",
       "      <td>33b71e4b-0690-4fe9-897a-dc3b2ff9215c</td>\n",
       "      <td>40983000</td>\n",
       "      <td>Arm</td>\n",
       "      <td>DX</td>\n",
       "      <td>Digital Radiography</td>\n",
       "      <td>1.2.840.10008.5.1.4.1.1.1.1</td>\n",
       "      <td>Digital X-Ray Image Storage</td>\n",
       "    </tr>\n",
       "    <tr>\n",
       "      <th>2</th>\n",
       "      <td>86b97fc7-ae8f-4e0d-8e66-db68f36e7a76</td>\n",
       "      <td>1959-05-26</td>\n",
       "      <td>NaN</td>\n",
       "      <td>999-59-1261</td>\n",
       "      <td>S99917383</td>\n",
       "      <td>X23685647X</td>\n",
       "      <td>Mrs.</td>\n",
       "      <td>Anissa357</td>\n",
       "      <td>Wuckert783</td>\n",
       "      <td>NaN</td>\n",
       "      <td>...</td>\n",
       "      <td>b8fb8a6e-a2f5-46c9-8b3f-a35aa982efcd</td>\n",
       "      <td>2001-12-01 02:08:27+00:00</td>\n",
       "      <td>86b97fc7-ae8f-4e0d-8e66-db68f36e7a76</td>\n",
       "      <td>e42d1046-568d-46c2-b0a5-d910b2f3bd1d</td>\n",
       "      <td>8205005</td>\n",
       "      <td>Wrist</td>\n",
       "      <td>DX</td>\n",
       "      <td>Digital Radiography</td>\n",
       "      <td>1.2.840.10008.5.1.4.1.1.1.1</td>\n",
       "      <td>Digital X-Ray Image Storage</td>\n",
       "    </tr>\n",
       "    <tr>\n",
       "      <th>3</th>\n",
       "      <td>71ba0469-f0cc-4177-ac70-ea07cb01c8b8</td>\n",
       "      <td>2000-11-21</td>\n",
       "      <td>2012-11-21</td>\n",
       "      <td>999-28-2716</td>\n",
       "      <td>NaN</td>\n",
       "      <td>NaN</td>\n",
       "      <td>NaN</td>\n",
       "      <td>Carmelia328</td>\n",
       "      <td>Konopelski743</td>\n",
       "      <td>NaN</td>\n",
       "      <td>...</td>\n",
       "      <td>10c8a016-4504-4653-bddf-2dd3610886c8</td>\n",
       "      <td>2004-07-03 20:46:46+00:00</td>\n",
       "      <td>71ba0469-f0cc-4177-ac70-ea07cb01c8b8</td>\n",
       "      <td>323fca87-817f-4d58-8486-ba92ea739399</td>\n",
       "      <td>51299004</td>\n",
       "      <td>Clavicle</td>\n",
       "      <td>DX</td>\n",
       "      <td>Digital Radiography</td>\n",
       "      <td>1.2.840.10008.5.1.4.1.1.1.1</td>\n",
       "      <td>Digital X-Ray Image Storage</td>\n",
       "    </tr>\n",
       "    <tr>\n",
       "      <th>4</th>\n",
       "      <td>d49f748f-928d-40e8-92c8-73e4c5679711</td>\n",
       "      <td>1967-06-14</td>\n",
       "      <td>NaN</td>\n",
       "      <td>999-15-5162</td>\n",
       "      <td>S99979086</td>\n",
       "      <td>X15362198X</td>\n",
       "      <td>Mr.</td>\n",
       "      <td>Wesley533</td>\n",
       "      <td>Rau926</td>\n",
       "      <td>NaN</td>\n",
       "      <td>...</td>\n",
       "      <td>4221534c-d379-4c6b-a22e-d7eae3fa2609</td>\n",
       "      <td>2017-02-08 08:42:44+00:00</td>\n",
       "      <td>d49f748f-928d-40e8-92c8-73e4c5679711</td>\n",
       "      <td>cfef48b3-b769-4794-a3e7-f57f7ba8d387</td>\n",
       "      <td>344001</td>\n",
       "      <td>Ankle</td>\n",
       "      <td>DX</td>\n",
       "      <td>Digital Radiography</td>\n",
       "      <td>1.2.840.10008.5.1.4.1.1.1.1</td>\n",
       "      <td>Digital X-Ray Image Storage</td>\n",
       "    </tr>\n",
       "  </tbody>\n",
       "</table>\n",
       "<p>5 rows × 35 columns</p>\n",
       "</div>"
      ],
      "text/plain": [
       "                                   Id_x   BIRTHDATE   DEATHDATE          SSN  \\\n",
       "0  b58731cc-2d8b-4c2d-b327-4cab771af3ef  1970-05-16         NaN  999-90-2484   \n",
       "1  2ffe9369-24e4-414b-8973-258fad09313a  1958-07-01         NaN  999-76-2715   \n",
       "2  86b97fc7-ae8f-4e0d-8e66-db68f36e7a76  1959-05-26         NaN  999-59-1261   \n",
       "3  71ba0469-f0cc-4177-ac70-ea07cb01c8b8  2000-11-21  2012-11-21  999-28-2716   \n",
       "4  d49f748f-928d-40e8-92c8-73e4c5679711  1967-06-14         NaN  999-15-5162   \n",
       "\n",
       "     DRIVERS    PASSPORT PREFIX        FIRST           LAST SUFFIX  ...  \\\n",
       "0  S99978036  X78170348X   Mrs.    Isabel214       Lucio648    NaN  ...   \n",
       "1  S99927965  X70120330X   Mrs.     Amada498    Reichert620    NaN  ...   \n",
       "2  S99917383  X23685647X   Mrs.    Anissa357     Wuckert783    NaN  ...   \n",
       "3        NaN         NaN    NaN  Carmelia328  Konopelski743    NaN  ...   \n",
       "4  S99979086  X15362198X    Mr.    Wesley533         Rau926    NaN  ...   \n",
       "\n",
       "                                   Id_y                      DATE  \\\n",
       "0  d3e49b38-7634-4416-879d-7bc68bf3e7df 2014-07-08 15:35:36+00:00   \n",
       "1  46baf530-4941-40ab-8219-685a08fd9086 2014-01-22 18:58:37+00:00   \n",
       "2  b8fb8a6e-a2f5-46c9-8b3f-a35aa982efcd 2001-12-01 02:08:27+00:00   \n",
       "3  10c8a016-4504-4653-bddf-2dd3610886c8 2004-07-03 20:46:46+00:00   \n",
       "4  4221534c-d379-4c6b-a22e-d7eae3fa2609 2017-02-08 08:42:44+00:00   \n",
       "\n",
       "                                PATIENT                             ENCOUNTER  \\\n",
       "0  b58731cc-2d8b-4c2d-b327-4cab771af3ef  3a36836d-da25-4e73-808b-972b669b7e4e   \n",
       "1  2ffe9369-24e4-414b-8973-258fad09313a  33b71e4b-0690-4fe9-897a-dc3b2ff9215c   \n",
       "2  86b97fc7-ae8f-4e0d-8e66-db68f36e7a76  e42d1046-568d-46c2-b0a5-d910b2f3bd1d   \n",
       "3  71ba0469-f0cc-4177-ac70-ea07cb01c8b8  323fca87-817f-4d58-8486-ba92ea739399   \n",
       "4  d49f748f-928d-40e8-92c8-73e4c5679711  cfef48b3-b769-4794-a3e7-f57f7ba8d387   \n",
       "\n",
       "  BODYSITE_CODE BODYSITE_DESCRIPTION MODALITY_CODE MODALITY_DESCRIPTION  \\\n",
       "0      40983000                  Arm            DX  Digital Radiography   \n",
       "1      40983000                  Arm            DX  Digital Radiography   \n",
       "2       8205005                Wrist            DX  Digital Radiography   \n",
       "3      51299004             Clavicle            DX  Digital Radiography   \n",
       "4        344001                Ankle            DX  Digital Radiography   \n",
       "\n",
       "                      SOP_CODE              SOP_DESCRIPTION  \n",
       "0  1.2.840.10008.5.1.4.1.1.1.1  Digital X-Ray Image Storage  \n",
       "1  1.2.840.10008.5.1.4.1.1.1.1  Digital X-Ray Image Storage  \n",
       "2  1.2.840.10008.5.1.4.1.1.1.1  Digital X-Ray Image Storage  \n",
       "3  1.2.840.10008.5.1.4.1.1.1.1  Digital X-Ray Image Storage  \n",
       "4  1.2.840.10008.5.1.4.1.1.1.1  Digital X-Ray Image Storage  \n",
       "\n",
       "[5 rows x 35 columns]"
      ]
     },
     "execution_count": 2,
     "metadata": {},
     "output_type": "execute_result"
    }
   ],
   "source": [
    "df1 = pd.read_csv('patients.csv')\n",
    "df2 = pd.read_csv('imaging_studies.csv', parse_dates=['DATE'])\n",
    "df_al = df1.merge(df2, left_on = 'Id', right_on = 'PATIENT')\n",
    "df_al.head()"
   ]
  },
  {
   "cell_type": "code",
   "execution_count": 3,
   "id": "b6c36ee6",
   "metadata": {},
   "outputs": [
    {
     "data": {
      "text/plain": [
       "<DatetimeArray>\n",
       "['2014-07-08 15:35:36+00:00', '2014-01-22 18:58:37+00:00',\n",
       " '2001-12-01 02:08:27+00:00', '2004-07-03 20:46:46+00:00',\n",
       " '2017-02-08 08:42:44+00:00', '2019-10-20 23:28:40+00:00',\n",
       " '2011-11-25 20:21:56+00:00', '2012-01-25 06:49:23+00:00',\n",
       " '2015-05-09 06:49:23+00:00', '2011-11-06 11:11:47+00:00',\n",
       " ...\n",
       " '1976-09-29 17:27:52+00:00', '1977-03-28 17:27:52+00:00',\n",
       " '1953-11-25 05:05:25+00:00', '1983-09-28 17:27:52+00:00',\n",
       " '1984-03-26 17:27:52+00:00', '1984-09-23 17:27:52+00:00',\n",
       " '1987-09-27 17:27:52+00:00', '1988-03-25 17:27:52+00:00',\n",
       " '1989-03-20 17:27:52+00:00', '1990-03-15 17:27:52+00:00']\n",
       "Length: 737, dtype: datetime64[ns, UTC]"
      ]
     },
     "execution_count": 3,
     "metadata": {},
     "output_type": "execute_result"
    }
   ],
   "source": [
    "dt_stop = df_al['DATE'].dropna()\n",
    "dt_stop = dt_stop.unique()\n",
    "dt_stop"
   ]
  },
  {
   "cell_type": "code",
   "execution_count": 4,
   "id": "113f1648",
   "metadata": {},
   "outputs": [
    {
     "data": {
      "text/plain": [
       "0      1\n",
       "1      1\n",
       "2      1\n",
       "3      1\n",
       "4      1\n",
       "      ..\n",
       "850    1\n",
       "851    1\n",
       "852    1\n",
       "853    1\n",
       "854    1\n",
       "Name: DATE, Length: 855, dtype: int64"
      ]
     },
     "execution_count": 4,
     "metadata": {},
     "output_type": "execute_result"
    }
   ],
   "source": [
    "df_al['DATE'] = df_al['DATE'].replace(dt_stop, np.full(len(dt_stop), 1))\n",
    "df_al['DATE'] = df_al['DATE'].replace({pd.NaT: \"0\"})\n",
    "df_al['DATE']"
   ]
  },
  {
   "cell_type": "code",
   "execution_count": 5,
   "id": "2d34f114",
   "metadata": {},
   "outputs": [
    {
     "data": {
      "text/html": [
       "<div>\n",
       "<style scoped>\n",
       "    .dataframe tbody tr th:only-of-type {\n",
       "        vertical-align: middle;\n",
       "    }\n",
       "\n",
       "    .dataframe tbody tr th {\n",
       "        vertical-align: top;\n",
       "    }\n",
       "\n",
       "    .dataframe thead th {\n",
       "        text-align: right;\n",
       "    }\n",
       "</style>\n",
       "<table border=\"1\" class=\"dataframe\">\n",
       "  <thead>\n",
       "    <tr style=\"text-align: right;\">\n",
       "      <th>SOP_DESCRIPTION</th>\n",
       "      <th>CT Image Storage</th>\n",
       "      <th>Digital X-Ray Image Storage</th>\n",
       "      <th>Digital X-Ray Image Storage – for Presentation</th>\n",
       "      <th>Ultrasound Image Storage</th>\n",
       "      <th>Ultrasound Multiframe Image Storage</th>\n",
       "    </tr>\n",
       "    <tr>\n",
       "      <th>DATE</th>\n",
       "      <th></th>\n",
       "      <th></th>\n",
       "      <th></th>\n",
       "      <th></th>\n",
       "      <th></th>\n",
       "    </tr>\n",
       "  </thead>\n",
       "  <tbody>\n",
       "    <tr>\n",
       "      <th>1</th>\n",
       "      <td>328</td>\n",
       "      <td>217</td>\n",
       "      <td>137</td>\n",
       "      <td>1</td>\n",
       "      <td>172</td>\n",
       "    </tr>\n",
       "  </tbody>\n",
       "</table>\n",
       "</div>"
      ],
      "text/plain": [
       "SOP_DESCRIPTION  CT Image Storage  Digital X-Ray Image Storage  \\\n",
       "DATE                                                             \n",
       "1                             328                          217   \n",
       "\n",
       "SOP_DESCRIPTION  Digital X-Ray Image Storage – for Presentation  \\\n",
       "DATE                                                              \n",
       "1                                                           137   \n",
       "\n",
       "SOP_DESCRIPTION  Ultrasound Image Storage  Ultrasound Multiframe Image Storage  \n",
       "DATE                                                                            \n",
       "1                                       1                                  172  "
      ]
     },
     "execution_count": 5,
     "metadata": {},
     "output_type": "execute_result"
    }
   ],
   "source": [
    "contigency = pd.crosstab(df_al['DATE'], df_al['SOP_DESCRIPTION'])\n",
    "contigency"
   ]
  },
  {
   "cell_type": "code",
   "execution_count": 6,
   "id": "a248439d",
   "metadata": {},
   "outputs": [
    {
     "data": {
      "text/plain": [
       "<AxesSubplot:xlabel='SOP_DESCRIPTION', ylabel='DATE'>"
      ]
     },
     "execution_count": 6,
     "metadata": {},
     "output_type": "execute_result"
    },
    {
     "data": {
      "image/png": "[encoded data removed]",
      "text/plain": [
       "<Figure size 432x288 with 2 Axes>"
      ]
     },
     "metadata": {
      "needs_background": "light"
     },
     "output_type": "display_data"
    }
   ],
   "source": [
    "plt.figure(figsize=(6,4))\n",
    "sns.heatmap(contigency, annot=True, cmap=\"YlGnBu\")"
   ]
  },
  {
   "cell_type": "code",
   "execution_count": 7,
   "id": "e24b2580",
   "metadata": {},
   "outputs": [
    {
     "data": {
      "text/plain": [
       "1.0"
      ]
     },
     "execution_count": 7,
     "metadata": {},
     "output_type": "execute_result"
    }
   ],
   "source": [
    "c, p, dof, expected = chi2_contingency(contigency)\n",
    "p"
   ]
  },
  {
   "cell_type": "code",
   "execution_count": 8,
   "id": "7610f95f-9623-4ef4-8a82-2561877583f6",
   "metadata": {},
   "outputs": [],
   "source": [
    "features_column = ['RACE', 'ETHNICITY', 'GENDER', 'SOP_DESCRIPTION']\n",
    "label_column = ['DATE']"
   ]
  },
  {
   "cell_type": "code",
   "execution_count": 9,
   "id": "2b0d2f5e-9686-48e1-a73a-570a46503dcd",
   "metadata": {},
   "outputs": [
    {
     "name": "stdout",
     "output_type": "stream",
     "text": [
      "{'RACE': Index(['asian', 'black', 'native', 'white'], dtype='object'), 'ETHNICITY': Index(['hispanic', 'nonhispanic'], dtype='object'), 'GENDER': Index(['F', 'M'], dtype='object'), 'SOP_DESCRIPTION': Index(['CT Image Storage', 'Digital X-Ray Image Storage',\n",
      "       'Digital X-Ray Image Storage – for Presentation',\n",
      "       'Ultrasound Image Storage', 'Ultrasound Multiframe Image Storage'],\n",
      "      dtype='object')}\n"
     ]
    },
    {
     "name": "stderr",
     "output_type": "stream",
     "text": [
      "<ipython-input-9-ad9e2bfc53a5>:2: SettingWithCopyWarning: \n",
      "A value is trying to be set on a copy of a slice from a DataFrame.\n",
      "Try using .loc[row_indexer,col_indexer] = value instead\n",
      "\n",
      "See the caveats in the documentation: https://pandas.pydata.org/pandas-docs/stable/user_guide/indexing.html#returning-a-view-versus-a-copy\n",
      "  dataset['DATE'] = dataset['DATE'].astype('int32')\n",
      "<ipython-input-9-ad9e2bfc53a5>:9: SettingWithCopyWarning: \n",
      "A value is trying to be set on a copy of a slice from a DataFrame.\n",
      "Try using .loc[row_indexer,col_indexer] = value instead\n",
      "\n",
      "See the caveats in the documentation: https://pandas.pydata.org/pandas-docs/stable/user_guide/indexing.html#returning-a-view-versus-a-copy\n",
      "  dataset[feature_name] = dataset[feature_name].astype('category')\n",
      "<ipython-input-9-ad9e2bfc53a5>:11: SettingWithCopyWarning: \n",
      "A value is trying to be set on a copy of a slice from a DataFrame.\n",
      "Try using .loc[row_indexer,col_indexer] = value instead\n",
      "\n",
      "See the caveats in the documentation: https://pandas.pydata.org/pandas-docs/stable/user_guide/indexing.html#returning-a-view-versus-a-copy\n",
      "  dataset[feature_name] = dataset[feature_name].astype('category').cat.codes\n"
     ]
    }
   ],
   "source": [
    "dataset = df_al[features_column + label_column]\n",
    "dataset['DATE'] = dataset['DATE'].astype('int32')\n",
    "\n",
    "#reference for numerical categories\n",
    "categorical_dict = {}\n",
    "\n",
    "#convert categorical data into numerical data\n",
    "for feature_name in features_column:\n",
    "    dataset[feature_name] = dataset[feature_name].astype('category')\n",
    "    categorical_dict.update({feature_name: dataset[feature_name].cat.categories})\n",
    "    dataset[feature_name] = dataset[feature_name].astype('category').cat.codes\n",
    "    \n",
    "print(categorical_dict)"
   ]
  },
  {
   "cell_type": "code",
   "execution_count": 10,
   "id": "339f8e00-7e1d-49b9-b529-1a34c06cced2",
   "metadata": {},
   "outputs": [],
   "source": [
    "train_dataset = dataset.sample(frac=0.8, random_state=0)\n",
    "test_dataset = dataset.drop(train_dataset.index)"
   ]
  },
  {
   "cell_type": "code",
   "execution_count": 11,
   "id": "05f2e973-7fd3-40f4-bfb0-c810af8a9bb4",
   "metadata": {},
   "outputs": [],
   "source": [
    "train_features = train_dataset.copy()\n",
    "test_features = test_dataset.copy()\n",
    "\n",
    "train_labels = train_features.pop('DATE')\n",
    "test_labels = test_features.pop('DATE')"
   ]
  },
  {
   "cell_type": "code",
   "execution_count": 12,
   "id": "04212ecb-c303-4ba2-99a9-387355918592",
   "metadata": {},
   "outputs": [],
   "source": [
    "def build_and_compile_model():\n",
    "  model = keras.Sequential([\n",
    "      layers.Dense(len(features_column)),\n",
    "      layers.Dense(64, activation = 'relu'),\n",
    "      layers.Dense(1)\n",
    "  ])\n",
    "\n",
    "  model.compile(loss = 'mean_absolute_error', metrics = ['accuracy'],\n",
    "                optimizer = 'adam')\n",
    "  return model"
   ]
  },
  {
   "cell_type": "code",
   "execution_count": 13,
   "id": "0aad6c04-04a0-454b-8a84-a350bd1ae2bf",
   "metadata": {},
   "outputs": [],
   "source": [
    "model = build_and_compile_model()"
   ]
  },
  {
   "cell_type": "code",
   "execution_count": 14,
   "id": "9d4e9fad-3aee-4fe1-a59a-d23423efff2e",
   "metadata": {},
   "outputs": [
    {
     "name": "stdout",
     "output_type": "stream",
     "text": [
      "Epoch 1/100\n",
      "18/18 [==============================] - 0s 7ms/step - loss: 1.0467 - accuracy: 0.0201 - val_loss: 0.6415 - val_accuracy: 0.1971\n",
      "Epoch 2/100\n",
      "18/18 [==============================] - 0s 1ms/step - loss: 0.4336 - accuracy: 0.6033 - val_loss: 0.2371 - val_accuracy: 0.8540\n",
      "Epoch 3/100\n",
      "18/18 [==============================] - 0s 1ms/step - loss: 0.2369 - accuracy: 0.8830 - val_loss: 0.1536 - val_accuracy: 0.9416\n",
      "Epoch 4/100\n",
      "18/18 [==============================] - 0s 2ms/step - loss: 0.1506 - accuracy: 0.9324 - val_loss: 0.1122 - val_accuracy: 0.9708\n",
      "Epoch 5/100\n",
      "18/18 [==============================] - 0s 1ms/step - loss: 0.1111 - accuracy: 0.9580 - val_loss: 0.0847 - val_accuracy: 0.9708\n",
      "Epoch 6/100\n",
      "18/18 [==============================] - 0s 1ms/step - loss: 0.0839 - accuracy: 0.9561 - val_loss: 0.0654 - val_accuracy: 0.9708\n",
      "Epoch 7/100\n",
      "18/18 [==============================] - 0s 1ms/step - loss: 0.0701 - accuracy: 0.9707 - val_loss: 0.0542 - val_accuracy: 0.9927\n",
      "Epoch 8/100\n",
      "18/18 [==============================] - 0s 1ms/step - loss: 0.0627 - accuracy: 0.9744 - val_loss: 0.0498 - val_accuracy: 0.9927\n",
      "Epoch 9/100\n",
      "18/18 [==============================] - 0s 1ms/step - loss: 0.0569 - accuracy: 0.9744 - val_loss: 0.0450 - val_accuracy: 0.9927\n",
      "Epoch 10/100\n",
      "18/18 [==============================] - 0s 1ms/step - loss: 0.0547 - accuracy: 0.9799 - val_loss: 0.0459 - val_accuracy: 0.9927\n",
      "Epoch 11/100\n",
      "18/18 [==============================] - 0s 1ms/step - loss: 0.0518 - accuracy: 0.9799 - val_loss: 0.0429 - val_accuracy: 0.9927\n",
      "Epoch 12/100\n",
      "18/18 [==============================] - 0s 1ms/step - loss: 0.0501 - accuracy: 0.9799 - val_loss: 0.0384 - val_accuracy: 0.9927\n",
      "Epoch 13/100\n",
      "18/18 [==============================] - 0s 1ms/step - loss: 0.0463 - accuracy: 0.9817 - val_loss: 0.0412 - val_accuracy: 0.9927\n",
      "Epoch 14/100\n",
      "18/18 [==============================] - 0s 1ms/step - loss: 0.0425 - accuracy: 0.9835 - val_loss: 0.0389 - val_accuracy: 0.9927\n",
      "Epoch 15/100\n",
      "18/18 [==============================] - 0s 1ms/step - loss: 0.0419 - accuracy: 0.9854 - val_loss: 0.0339 - val_accuracy: 0.9927\n",
      "Epoch 16/100\n",
      "18/18 [==============================] - 0s 1ms/step - loss: 0.0377 - accuracy: 0.9872 - val_loss: 0.0319 - val_accuracy: 0.9927\n",
      "Epoch 17/100\n",
      "18/18 [==============================] - 0s 2ms/step - loss: 0.0375 - accuracy: 0.9909 - val_loss: 0.0383 - val_accuracy: 1.0000\n",
      "Epoch 18/100\n",
      "18/18 [==============================] - 0s 1ms/step - loss: 0.0385 - accuracy: 0.9982 - val_loss: 0.0315 - val_accuracy: 1.0000\n",
      "Epoch 19/100\n",
      "18/18 [==============================] - 0s 1ms/step - loss: 0.0339 - accuracy: 0.9982 - val_loss: 0.0336 - val_accuracy: 1.0000\n",
      "Epoch 20/100\n",
      "18/18 [==============================] - 0s 1ms/step - loss: 0.0348 - accuracy: 0.9982 - val_loss: 0.0298 - val_accuracy: 1.0000\n",
      "Epoch 21/100\n",
      "18/18 [==============================] - 0s 1ms/step - loss: 0.0320 - accuracy: 1.0000 - val_loss: 0.0304 - val_accuracy: 1.0000\n",
      "Epoch 22/100\n",
      "18/18 [==============================] - 0s 1ms/step - loss: 0.0329 - accuracy: 1.0000 - val_loss: 0.0307 - val_accuracy: 1.0000\n",
      "Epoch 23/100\n",
      "18/18 [==============================] - 0s 1ms/step - loss: 0.0305 - accuracy: 1.0000 - val_loss: 0.0327 - val_accuracy: 1.0000\n"
     ]
    }
   ],
   "source": [
    "#fit the model\n",
    "early_stopping = tf.keras.callbacks.EarlyStopping(monitor='val_loss',\n",
    "                                            patience=3,\n",
    "                                            mode='min')\n",
    "history = model.fit(\n",
    "    train_features[features_column],\n",
    "    train_labels,\n",
    "    validation_split=0.2,\n",
    "    callbacks=early_stopping,\n",
    "    verbose=1, epochs=100)"
   ]
  },
  {
   "cell_type": "code",
   "execution_count": 15,
   "id": "f8862eaa-616c-494e-a6ce-52cb0cd62e94",
   "metadata": {},
   "outputs": [
    {
     "name": "stdout",
     "output_type": "stream",
     "text": [
      "6/6 [==============================] - 0s 600us/step - loss: 0.0411 - accuracy: 1.0000\n"
     ]
    },
    {
     "data": {
      "text/plain": [
       "[0.041081905364990234, 1.0]"
      ]
     },
     "execution_count": 15,
     "metadata": {},
     "output_type": "execute_result"
    }
   ],
   "source": [
    "model.evaluate(test_features[features_column], test_labels)"
   ]
  },
  {
   "cell_type": "code",
   "execution_count": 16,
   "id": "fe72de47-4c6e-41c0-a5de-a8adab4a375f",
   "metadata": {},
   "outputs": [
    {
     "name": "stdout",
     "output_type": "stream",
     "text": [
      "INFO:tensorflow:Assets written to: model_imaging_procedures\\assets\n"
     ]
    }
   ],
   "source": [
    "model.save('model_imaging_procedures')"
   ]
  },
  {
   "cell_type": "code",
   "execution_count": null,
   "id": "36ec75e2-4487-489f-83e4-9f47e266d8d4",
   "metadata": {},
   "outputs": [],
   "source": []
  }
 ],
 "metadata": {
  "kernelspec": {
   "display_name": "Python 3",
   "language": "python",
   "name": "python3"
  },
  "language_info": {
   "codemirror_mode": {
    "name": "ipython",
    "version": 3
   },
   "file_extension": ".py",
   "mimetype": "text/x-python",
   "name": "python",
   "nbconvert_exporter": "python",
   "pygments_lexer": "ipython3",
   "version": "3.8.8"
  }
 },
 "nbformat": 4,
 "nbformat_minor": 5
}

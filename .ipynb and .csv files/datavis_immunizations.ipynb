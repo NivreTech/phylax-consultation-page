{
 "cells": [
  {
   "cell_type": "code",
   "execution_count": 1,
   "id": "f267d333",
   "metadata": {},
   "outputs": [],
   "source": [
    "import pandas as pd\n",
    "import numpy as np\n",
    "from scipy.stats import chi2_contingency\n",
    "from datetime import datetime\n",
    "import seaborn as sns\n",
    "import matplotlib.pyplot as plt\n",
    "from tensorflow import keras\n",
    "from tensorflow.keras import layers\n",
    "import tensorflow as tf"
   ]
  },
  {
   "cell_type": "code",
   "execution_count": 2,
   "id": "d32b099b-86fa-485c-a8ca-eda241e025fa",
   "metadata": {},
   "outputs": [
    {
     "data": {
      "text/html": [
       "<div>\n",
       "<style scoped>\n",
       "    .dataframe tbody tr th:only-of-type {\n",
       "        vertical-align: middle;\n",
       "    }\n",
       "\n",
       "    .dataframe tbody tr th {\n",
       "        vertical-align: top;\n",
       "    }\n",
       "\n",
       "    .dataframe thead th {\n",
       "        text-align: right;\n",
       "    }\n",
       "</style>\n",
       "<table border=\"1\" class=\"dataframe\">\n",
       "  <thead>\n",
       "    <tr style=\"text-align: right;\">\n",
       "      <th></th>\n",
       "      <th>Id</th>\n",
       "      <th>BIRTHDATE</th>\n",
       "      <th>DEATHDATE</th>\n",
       "      <th>SSN</th>\n",
       "      <th>DRIVERS</th>\n",
       "      <th>PASSPORT</th>\n",
       "      <th>PREFIX</th>\n",
       "      <th>FIRST</th>\n",
       "      <th>LAST</th>\n",
       "      <th>SUFFIX</th>\n",
       "      <th>...</th>\n",
       "      <th>LAT</th>\n",
       "      <th>LON</th>\n",
       "      <th>HEALTHCARE_EXPENSES</th>\n",
       "      <th>HEALTHCARE_COVERAGE</th>\n",
       "      <th>DATE</th>\n",
       "      <th>PATIENT</th>\n",
       "      <th>ENCOUNTER</th>\n",
       "      <th>CODE</th>\n",
       "      <th>DESCRIPTION</th>\n",
       "      <th>BASE_COST</th>\n",
       "    </tr>\n",
       "  </thead>\n",
       "  <tbody>\n",
       "    <tr>\n",
       "      <th>0</th>\n",
       "      <td>1d604da9-9a81-4ba9-80c2-de3375d59b40</td>\n",
       "      <td>1989-05-25</td>\n",
       "      <td>NaN</td>\n",
       "      <td>999-76-6866</td>\n",
       "      <td>S99984236</td>\n",
       "      <td>X19277260X</td>\n",
       "      <td>Mr.</td>\n",
       "      <td>José Eduardo181</td>\n",
       "      <td>Gómez206</td>\n",
       "      <td>NaN</td>\n",
       "      <td>...</td>\n",
       "      <td>42.228354</td>\n",
       "      <td>-72.562951</td>\n",
       "      <td>271227.08</td>\n",
       "      <td>1334.88</td>\n",
       "      <td>2011-07-28 15:02:18+00:00</td>\n",
       "      <td>1d604da9-9a81-4ba9-80c2-de3375d59b40</td>\n",
       "      <td>b85c339a-6076-43ed-b9d0-9cf013dec49d</td>\n",
       "      <td>140</td>\n",
       "      <td>Influenza  seasonal  injectable  preservative ...</td>\n",
       "      <td>140.52</td>\n",
       "    </tr>\n",
       "    <tr>\n",
       "      <th>1</th>\n",
       "      <td>1d604da9-9a81-4ba9-80c2-de3375d59b40</td>\n",
       "      <td>1989-05-25</td>\n",
       "      <td>NaN</td>\n",
       "      <td>999-76-6866</td>\n",
       "      <td>S99984236</td>\n",
       "      <td>X19277260X</td>\n",
       "      <td>Mr.</td>\n",
       "      <td>José Eduardo181</td>\n",
       "      <td>Gómez206</td>\n",
       "      <td>NaN</td>\n",
       "      <td>...</td>\n",
       "      <td>42.228354</td>\n",
       "      <td>-72.562951</td>\n",
       "      <td>271227.08</td>\n",
       "      <td>1334.88</td>\n",
       "      <td>2011-07-28 15:02:18+00:00</td>\n",
       "      <td>1d604da9-9a81-4ba9-80c2-de3375d59b40</td>\n",
       "      <td>b85c339a-6076-43ed-b9d0-9cf013dec49d</td>\n",
       "      <td>113</td>\n",
       "      <td>Td (adult) preservative free</td>\n",
       "      <td>140.52</td>\n",
       "    </tr>\n",
       "    <tr>\n",
       "      <th>2</th>\n",
       "      <td>1d604da9-9a81-4ba9-80c2-de3375d59b40</td>\n",
       "      <td>1989-05-25</td>\n",
       "      <td>NaN</td>\n",
       "      <td>999-76-6866</td>\n",
       "      <td>S99984236</td>\n",
       "      <td>X19277260X</td>\n",
       "      <td>Mr.</td>\n",
       "      <td>José Eduardo181</td>\n",
       "      <td>Gómez206</td>\n",
       "      <td>NaN</td>\n",
       "      <td>...</td>\n",
       "      <td>42.228354</td>\n",
       "      <td>-72.562951</td>\n",
       "      <td>271227.08</td>\n",
       "      <td>1334.88</td>\n",
       "      <td>2011-07-28 15:02:18+00:00</td>\n",
       "      <td>1d604da9-9a81-4ba9-80c2-de3375d59b40</td>\n",
       "      <td>b85c339a-6076-43ed-b9d0-9cf013dec49d</td>\n",
       "      <td>43</td>\n",
       "      <td>Hep B  adult</td>\n",
       "      <td>140.52</td>\n",
       "    </tr>\n",
       "    <tr>\n",
       "      <th>3</th>\n",
       "      <td>1d604da9-9a81-4ba9-80c2-de3375d59b40</td>\n",
       "      <td>1989-05-25</td>\n",
       "      <td>NaN</td>\n",
       "      <td>999-76-6866</td>\n",
       "      <td>S99984236</td>\n",
       "      <td>X19277260X</td>\n",
       "      <td>Mr.</td>\n",
       "      <td>José Eduardo181</td>\n",
       "      <td>Gómez206</td>\n",
       "      <td>NaN</td>\n",
       "      <td>...</td>\n",
       "      <td>42.228354</td>\n",
       "      <td>-72.562951</td>\n",
       "      <td>271227.08</td>\n",
       "      <td>1334.88</td>\n",
       "      <td>2011-07-28 15:02:18+00:00</td>\n",
       "      <td>1d604da9-9a81-4ba9-80c2-de3375d59b40</td>\n",
       "      <td>b85c339a-6076-43ed-b9d0-9cf013dec49d</td>\n",
       "      <td>114</td>\n",
       "      <td>meningococcal MCV4P</td>\n",
       "      <td>140.52</td>\n",
       "    </tr>\n",
       "    <tr>\n",
       "      <th>4</th>\n",
       "      <td>1d604da9-9a81-4ba9-80c2-de3375d59b40</td>\n",
       "      <td>1989-05-25</td>\n",
       "      <td>NaN</td>\n",
       "      <td>999-76-6866</td>\n",
       "      <td>S99984236</td>\n",
       "      <td>X19277260X</td>\n",
       "      <td>Mr.</td>\n",
       "      <td>José Eduardo181</td>\n",
       "      <td>Gómez206</td>\n",
       "      <td>NaN</td>\n",
       "      <td>...</td>\n",
       "      <td>42.228354</td>\n",
       "      <td>-72.562951</td>\n",
       "      <td>271227.08</td>\n",
       "      <td>1334.88</td>\n",
       "      <td>2014-07-31 15:02:18+00:00</td>\n",
       "      <td>1d604da9-9a81-4ba9-80c2-de3375d59b40</td>\n",
       "      <td>95e23731-0629-4262-bb5b-3e1f078ac864</td>\n",
       "      <td>140</td>\n",
       "      <td>Influenza  seasonal  injectable  preservative ...</td>\n",
       "      <td>140.52</td>\n",
       "    </tr>\n",
       "  </tbody>\n",
       "</table>\n",
       "<p>5 rows × 31 columns</p>\n",
       "</div>"
      ],
      "text/plain": [
       "                                     Id   BIRTHDATE DEATHDATE          SSN  \\\n",
       "0  1d604da9-9a81-4ba9-80c2-de3375d59b40  1989-05-25       NaN  999-76-6866   \n",
       "1  1d604da9-9a81-4ba9-80c2-de3375d59b40  1989-05-25       NaN  999-76-6866   \n",
       "2  1d604da9-9a81-4ba9-80c2-de3375d59b40  1989-05-25       NaN  999-76-6866   \n",
       "3  1d604da9-9a81-4ba9-80c2-de3375d59b40  1989-05-25       NaN  999-76-6866   \n",
       "4  1d604da9-9a81-4ba9-80c2-de3375d59b40  1989-05-25       NaN  999-76-6866   \n",
       "\n",
       "     DRIVERS    PASSPORT PREFIX            FIRST      LAST SUFFIX  ...  \\\n",
       "0  S99984236  X19277260X    Mr.  José Eduardo181  Gómez206    NaN  ...   \n",
       "1  S99984236  X19277260X    Mr.  José Eduardo181  Gómez206    NaN  ...   \n",
       "2  S99984236  X19277260X    Mr.  José Eduardo181  Gómez206    NaN  ...   \n",
       "3  S99984236  X19277260X    Mr.  José Eduardo181  Gómez206    NaN  ...   \n",
       "4  S99984236  X19277260X    Mr.  José Eduardo181  Gómez206    NaN  ...   \n",
       "\n",
       "         LAT        LON HEALTHCARE_EXPENSES HEALTHCARE_COVERAGE  \\\n",
       "0  42.228354 -72.562951           271227.08             1334.88   \n",
       "1  42.228354 -72.562951           271227.08             1334.88   \n",
       "2  42.228354 -72.562951           271227.08             1334.88   \n",
       "3  42.228354 -72.562951           271227.08             1334.88   \n",
       "4  42.228354 -72.562951           271227.08             1334.88   \n",
       "\n",
       "                       DATE                               PATIENT  \\\n",
       "0 2011-07-28 15:02:18+00:00  1d604da9-9a81-4ba9-80c2-de3375d59b40   \n",
       "1 2011-07-28 15:02:18+00:00  1d604da9-9a81-4ba9-80c2-de3375d59b40   \n",
       "2 2011-07-28 15:02:18+00:00  1d604da9-9a81-4ba9-80c2-de3375d59b40   \n",
       "3 2011-07-28 15:02:18+00:00  1d604da9-9a81-4ba9-80c2-de3375d59b40   \n",
       "4 2014-07-31 15:02:18+00:00  1d604da9-9a81-4ba9-80c2-de3375d59b40   \n",
       "\n",
       "                              ENCOUNTER CODE  \\\n",
       "0  b85c339a-6076-43ed-b9d0-9cf013dec49d  140   \n",
       "1  b85c339a-6076-43ed-b9d0-9cf013dec49d  113   \n",
       "2  b85c339a-6076-43ed-b9d0-9cf013dec49d   43   \n",
       "3  b85c339a-6076-43ed-b9d0-9cf013dec49d  114   \n",
       "4  95e23731-0629-4262-bb5b-3e1f078ac864  140   \n",
       "\n",
       "                                         DESCRIPTION BASE_COST  \n",
       "0  Influenza  seasonal  injectable  preservative ...    140.52  \n",
       "1                       Td (adult) preservative free    140.52  \n",
       "2                                       Hep B  adult    140.52  \n",
       "3                                meningococcal MCV4P    140.52  \n",
       "4  Influenza  seasonal  injectable  preservative ...    140.52  \n",
       "\n",
       "[5 rows x 31 columns]"
      ]
     },
     "execution_count": 2,
     "metadata": {},
     "output_type": "execute_result"
    }
   ],
   "source": [
    "df1 = pd.read_csv('patients.csv')\n",
    "df2 = pd.read_csv('immunizations.csv', parse_dates=['DATE'])\n",
    "df_al = df1.merge(df2, left_on = 'Id', right_on = 'PATIENT')\n",
    "df_al.head()"
   ]
  },
  {
   "cell_type": "code",
   "execution_count": 3,
   "id": "680574cb",
   "metadata": {},
   "outputs": [
    {
     "data": {
      "text/plain": [
       "<DatetimeArray>\n",
       "['2011-07-28 15:02:18+00:00', '2014-07-31 15:02:18+00:00',\n",
       " '2017-08-03 15:02:18+00:00', '2012-01-23 17:45:28+00:00',\n",
       " '2015-01-26 17:45:28+00:00', '2017-01-09 17:45:28+00:00',\n",
       " '2018-01-29 17:45:28+00:00', '2010-07-27 12:58:08+00:00',\n",
       " '2011-05-24 12:58:08+00:00', '2014-08-05 12:58:08+00:00',\n",
       " ...\n",
       " '1982-12-18 17:27:52+00:00', '1983-12-24 17:27:52+00:00',\n",
       " '1984-12-29 17:27:52+00:00', '1986-01-04 17:27:52+00:00',\n",
       " '2010-05-22 17:27:52+00:00', '2011-05-28 17:27:52+00:00',\n",
       " '2012-06-02 17:27:52+00:00', '2013-06-08 17:27:52+00:00',\n",
       " '2014-06-14 17:27:52+00:00', '2015-06-20 17:27:52+00:00']\n",
       "Length: 10162, dtype: datetime64[ns, UTC]"
      ]
     },
     "execution_count": 3,
     "metadata": {},
     "output_type": "execute_result"
    }
   ],
   "source": [
    "dt_stop = df_al['DATE'].dropna()\n",
    "dt_stop = dt_stop.unique()\n",
    "dt_stop"
   ]
  },
  {
   "cell_type": "code",
   "execution_count": 4,
   "id": "03d90c9e",
   "metadata": {},
   "outputs": [
    {
     "data": {
      "text/plain": [
       "0        1\n",
       "1        1\n",
       "2        1\n",
       "3        1\n",
       "4        1\n",
       "        ..\n",
       "15473    1\n",
       "15474    1\n",
       "15475    1\n",
       "15476    1\n",
       "15477    1\n",
       "Name: DATE, Length: 15478, dtype: int64"
      ]
     },
     "execution_count": 4,
     "metadata": {},
     "output_type": "execute_result"
    }
   ],
   "source": [
    "df_al['DATE'] = df_al['DATE'].replace(dt_stop, np.full(len(dt_stop), 1))\n",
    "df_al['DATE'] = df_al['DATE'].replace({pd.NaT: \"0\"})\n",
    "df_al['DATE']"
   ]
  },
  {
   "cell_type": "code",
   "execution_count": 5,
   "id": "17f08184",
   "metadata": {},
   "outputs": [
    {
     "data": {
      "text/html": [
       "<div>\n",
       "<style scoped>\n",
       "    .dataframe tbody tr th:only-of-type {\n",
       "        vertical-align: middle;\n",
       "    }\n",
       "\n",
       "    .dataframe tbody tr th {\n",
       "        vertical-align: top;\n",
       "    }\n",
       "\n",
       "    .dataframe thead th {\n",
       "        text-align: right;\n",
       "    }\n",
       "</style>\n",
       "<table border=\"1\" class=\"dataframe\">\n",
       "  <thead>\n",
       "    <tr style=\"text-align: right;\">\n",
       "      <th>DESCRIPTION</th>\n",
       "      <th>DTaP</th>\n",
       "      <th>HPV  quadrivalent</th>\n",
       "      <th>Hep A  adult</th>\n",
       "      <th>Hep A  ped/adol  2 dose</th>\n",
       "      <th>Hep B  adolescent or pediatric</th>\n",
       "      <th>Hep B  adult</th>\n",
       "      <th>Hib (PRP-OMP)</th>\n",
       "      <th>IPV</th>\n",
       "      <th>Influenza  seasonal  injectable  preservative free</th>\n",
       "      <th>MMR</th>\n",
       "      <th>Pneumococcal conjugate PCV 13</th>\n",
       "      <th>Td (adult) preservative free</th>\n",
       "      <th>Tdap</th>\n",
       "      <th>meningococcal MCV4P</th>\n",
       "      <th>pneumococcal polysaccharide vaccine  23 valent</th>\n",
       "      <th>rotavirus  monovalent</th>\n",
       "      <th>varicella</th>\n",
       "      <th>zoster</th>\n",
       "    </tr>\n",
       "    <tr>\n",
       "      <th>DATE</th>\n",
       "      <th></th>\n",
       "      <th></th>\n",
       "      <th></th>\n",
       "      <th></th>\n",
       "      <th></th>\n",
       "      <th></th>\n",
       "      <th></th>\n",
       "      <th></th>\n",
       "      <th></th>\n",
       "      <th></th>\n",
       "      <th></th>\n",
       "      <th></th>\n",
       "      <th></th>\n",
       "      <th></th>\n",
       "      <th></th>\n",
       "      <th></th>\n",
       "      <th></th>\n",
       "      <th></th>\n",
       "    </tr>\n",
       "  </thead>\n",
       "  <tbody>\n",
       "    <tr>\n",
       "      <th>1</th>\n",
       "      <td>572</td>\n",
       "      <td>424</td>\n",
       "      <td>281</td>\n",
       "      <td>230</td>\n",
       "      <td>352</td>\n",
       "      <td>263</td>\n",
       "      <td>354</td>\n",
       "      <td>481</td>\n",
       "      <td>9385</td>\n",
       "      <td>233</td>\n",
       "      <td>661</td>\n",
       "      <td>830</td>\n",
       "      <td>142</td>\n",
       "      <td>432</td>\n",
       "      <td>105</td>\n",
       "      <td>225</td>\n",
       "      <td>228</td>\n",
       "      <td>280</td>\n",
       "    </tr>\n",
       "  </tbody>\n",
       "</table>\n",
       "</div>"
      ],
      "text/plain": [
       "DESCRIPTION  DTaP  HPV  quadrivalent  Hep A  adult  Hep A  ped/adol  2 dose  \\\n",
       "DATE                                                                          \n",
       "1             572                424           281                      230   \n",
       "\n",
       "DESCRIPTION  Hep B  adolescent or pediatric  Hep B  adult  Hib (PRP-OMP)  IPV  \\\n",
       "DATE                                                                            \n",
       "1                                       352           263            354  481   \n",
       "\n",
       "DESCRIPTION  Influenza  seasonal  injectable  preservative free  MMR  \\\n",
       "DATE                                                                   \n",
       "1                                                         9385   233   \n",
       "\n",
       "DESCRIPTION  Pneumococcal conjugate PCV 13  Td (adult) preservative free  \\\n",
       "DATE                                                                       \n",
       "1                                      661                           830   \n",
       "\n",
       "DESCRIPTION  Tdap  meningococcal MCV4P  \\\n",
       "DATE                                     \n",
       "1             142                  432   \n",
       "\n",
       "DESCRIPTION  pneumococcal polysaccharide vaccine  23 valent  \\\n",
       "DATE                                                          \n",
       "1                                                       105   \n",
       "\n",
       "DESCRIPTION  rotavirus  monovalent  varicella  zoster  \n",
       "DATE                                                   \n",
       "1                              225        228     280  "
      ]
     },
     "execution_count": 5,
     "metadata": {},
     "output_type": "execute_result"
    }
   ],
   "source": [
    "contigency = pd.crosstab(df_al['DATE'], df_al['DESCRIPTION'])\n",
    "contigency"
   ]
  },
  {
   "cell_type": "code",
   "execution_count": 6,
   "id": "b50905dc",
   "metadata": {},
   "outputs": [
    {
     "data": {
      "text/plain": [
       "<AxesSubplot:xlabel='DESCRIPTION', ylabel='DATE'>"
      ]
     },
     "execution_count": 6,
     "metadata": {},
     "output_type": "execute_result"
    },
    {
     "data": {
      "image/png": "[encoded data removed]",
      "text/plain": [
       "<Figure size 1728x288 with 2 Axes>"
      ]
     },
     "metadata": {
      "needs_background": "light"
     },
     "output_type": "display_data"
    }
   ],
   "source": [
    "plt.figure(figsize=(24,4))\n",
    "sns.heatmap(contigency, annot=True, cmap=\"YlGnBu\")"
   ]
  },
  {
   "cell_type": "code",
   "execution_count": 7,
   "id": "0efec334",
   "metadata": {},
   "outputs": [
    {
     "data": {
      "text/plain": [
       "1.0"
      ]
     },
     "execution_count": 7,
     "metadata": {},
     "output_type": "execute_result"
    }
   ],
   "source": [
    "c, p, dof, expected = chi2_contingency(contigency)\n",
    "p"
   ]
  },
  {
   "cell_type": "code",
   "execution_count": 8,
   "id": "00890032-a7db-4fc0-adf8-e4893785163b",
   "metadata": {},
   "outputs": [],
   "source": [
    "features_column = ['RACE', 'ETHNICITY', 'GENDER', 'DESCRIPTION']\n",
    "label_column = ['DATE']"
   ]
  },
  {
   "cell_type": "code",
   "execution_count": 9,
   "id": "74c8e8a7-0b09-4b48-80a1-9c20c2fe8b51",
   "metadata": {},
   "outputs": [
    {
     "name": "stdout",
     "output_type": "stream",
     "text": [
      "{'RACE': Index(['asian', 'black', 'native', 'other', 'white'], dtype='object'), 'ETHNICITY': Index(['hispanic', 'nonhispanic'], dtype='object'), 'GENDER': Index(['F', 'M'], dtype='object'), 'DESCRIPTION': Index(['DTaP', 'HPV  quadrivalent', 'Hep A  adult', 'Hep A  ped/adol  2 dose',\n",
      "       'Hep B  adolescent or pediatric', 'Hep B  adult', 'Hib (PRP-OMP)',\n",
      "       'IPV', 'Influenza  seasonal  injectable  preservative free', 'MMR',\n",
      "       'Pneumococcal conjugate PCV 13', 'Td (adult) preservative free', 'Tdap',\n",
      "       'meningococcal MCV4P', 'pneumococcal polysaccharide vaccine  23 valent',\n",
      "       'rotavirus  monovalent', 'varicella', 'zoster'],\n",
      "      dtype='object')}\n"
     ]
    },
    {
     "name": "stderr",
     "output_type": "stream",
     "text": [
      "<ipython-input-9-ad9e2bfc53a5>:2: SettingWithCopyWarning: \n",
      "A value is trying to be set on a copy of a slice from a DataFrame.\n",
      "Try using .loc[row_indexer,col_indexer] = value instead\n",
      "\n",
      "See the caveats in the documentation: https://pandas.pydata.org/pandas-docs/stable/user_guide/indexing.html#returning-a-view-versus-a-copy\n",
      "  dataset['DATE'] = dataset['DATE'].astype('int32')\n",
      "<ipython-input-9-ad9e2bfc53a5>:9: SettingWithCopyWarning: \n",
      "A value is trying to be set on a copy of a slice from a DataFrame.\n",
      "Try using .loc[row_indexer,col_indexer] = value instead\n",
      "\n",
      "See the caveats in the documentation: https://pandas.pydata.org/pandas-docs/stable/user_guide/indexing.html#returning-a-view-versus-a-copy\n",
      "  dataset[feature_name] = dataset[feature_name].astype('category')\n",
      "<ipython-input-9-ad9e2bfc53a5>:11: SettingWithCopyWarning: \n",
      "A value is trying to be set on a copy of a slice from a DataFrame.\n",
      "Try using .loc[row_indexer,col_indexer] = value instead\n",
      "\n",
      "See the caveats in the documentation: https://pandas.pydata.org/pandas-docs/stable/user_guide/indexing.html#returning-a-view-versus-a-copy\n",
      "  dataset[feature_name] = dataset[feature_name].astype('category').cat.codes\n"
     ]
    }
   ],
   "source": [
    "dataset = df_al[features_column + label_column]\n",
    "dataset['DATE'] = dataset['DATE'].astype('int32')\n",
    "\n",
    "#reference for numerical categories\n",
    "categorical_dict = {}\n",
    "\n",
    "#convert categorical data into numerical data\n",
    "for feature_name in features_column:\n",
    "    dataset[feature_name] = dataset[feature_name].astype('category')\n",
    "    categorical_dict.update({feature_name: dataset[feature_name].cat.categories})\n",
    "    dataset[feature_name] = dataset[feature_name].astype('category').cat.codes\n",
    "    \n",
    "print(categorical_dict)"
   ]
  },
  {
   "cell_type": "code",
   "execution_count": 10,
   "id": "60644667-8688-45ed-96c9-1ab160ae3953",
   "metadata": {},
   "outputs": [],
   "source": [
    "train_dataset = dataset.sample(frac=0.8, random_state=0)\n",
    "test_dataset = dataset.drop(train_dataset.index)"
   ]
  },
  {
   "cell_type": "code",
   "execution_count": 11,
   "id": "d4782593-757e-49d4-a9a4-53aa53373447",
   "metadata": {},
   "outputs": [],
   "source": [
    "train_features = train_dataset.copy()\n",
    "test_features = test_dataset.copy()\n",
    "\n",
    "train_labels = train_features.pop('DATE')\n",
    "test_labels = test_features.pop('DATE')"
   ]
  },
  {
   "cell_type": "code",
   "execution_count": 12,
   "id": "3dfb1936-9161-4070-929c-370ce9eada4b",
   "metadata": {},
   "outputs": [],
   "source": [
    "def build_and_compile_model():\n",
    "  model = keras.Sequential([\n",
    "      layers.Dense(len(features_column)),\n",
    "      layers.Dense(64, activation = 'relu'),\n",
    "      layers.Dense(1)\n",
    "  ])\n",
    "\n",
    "  model.compile(loss = 'mean_absolute_error', metrics = ['accuracy'],\n",
    "                optimizer = 'adam')\n",
    "  return model"
   ]
  },
  {
   "cell_type": "code",
   "execution_count": 13,
   "id": "33cf4bb7-ff40-41fa-b187-ba59c1cf8d7f",
   "metadata": {},
   "outputs": [],
   "source": [
    "model = build_and_compile_model()"
   ]
  },
  {
   "cell_type": "code",
   "execution_count": 14,
   "id": "c4525c9c-466c-4a4b-99c8-48bd9325d405",
   "metadata": {},
   "outputs": [
    {
     "name": "stdout",
     "output_type": "stream",
     "text": [
      "Epoch 1/100\n",
      "310/310 [==============================] - 1s 920us/step - loss: 0.1431 - accuracy: 0.9448 - val_loss: 0.0381 - val_accuracy: 1.0000\n",
      "Epoch 2/100\n",
      "310/310 [==============================] - 0s 567us/step - loss: 0.0268 - accuracy: 1.0000 - val_loss: 0.0118 - val_accuracy: 1.0000\n",
      "Epoch 3/100\n",
      "310/310 [==============================] - 0s 557us/step - loss: 0.0206 - accuracy: 1.0000 - val_loss: 0.0280 - val_accuracy: 1.0000\n",
      "Epoch 4/100\n",
      "310/310 [==============================] - 0s 564us/step - loss: 0.0168 - accuracy: 1.0000 - val_loss: 0.0155 - val_accuracy: 1.0000\n",
      "Epoch 5/100\n",
      "310/310 [==============================] - 0s 554us/step - loss: 0.0114 - accuracy: 1.0000 - val_loss: 0.0089 - val_accuracy: 1.0000\n",
      "Epoch 6/100\n",
      "310/310 [==============================] - 0s 590us/step - loss: 0.0118 - accuracy: 1.0000 - val_loss: 0.0069 - val_accuracy: 1.0000\n",
      "Epoch 7/100\n",
      "310/310 [==============================] - 0s 525us/step - loss: 0.0158 - accuracy: 1.0000 - val_loss: 0.0086 - val_accuracy: 1.0000\n",
      "Epoch 8/100\n",
      "310/310 [==============================] - 0s 564us/step - loss: 0.0147 - accuracy: 1.0000 - val_loss: 0.0056 - val_accuracy: 1.0000\n",
      "Epoch 9/100\n",
      "310/310 [==============================] - 0s 609us/step - loss: 0.0149 - accuracy: 1.0000 - val_loss: 0.0136 - val_accuracy: 1.0000\n",
      "Epoch 10/100\n",
      "310/310 [==============================] - 0s 628us/step - loss: 0.0132 - accuracy: 1.0000 - val_loss: 0.0054 - val_accuracy: 1.0000\n",
      "Epoch 11/100\n",
      "310/310 [==============================] - 0s 577us/step - loss: 0.0137 - accuracy: 1.0000 - val_loss: 0.0076 - val_accuracy: 1.0000\n",
      "Epoch 12/100\n",
      "310/310 [==============================] - 0s 580us/step - loss: 0.0125 - accuracy: 1.0000 - val_loss: 0.0071 - val_accuracy: 1.0000\n",
      "Epoch 13/100\n",
      "310/310 [==============================] - 0s 570us/step - loss: 0.0114 - accuracy: 1.0000 - val_loss: 0.0067 - val_accuracy: 1.0000\n"
     ]
    }
   ],
   "source": [
    "#fit the model\n",
    "early_stopping = tf.keras.callbacks.EarlyStopping(monitor='val_loss',\n",
    "                                            patience=3,\n",
    "                                            mode='min')\n",
    "history = model.fit(\n",
    "    train_features[features_column],\n",
    "    train_labels,\n",
    "    validation_split=0.2,\n",
    "    callbacks=early_stopping,\n",
    "    verbose=1, epochs=100)"
   ]
  },
  {
   "cell_type": "code",
   "execution_count": 15,
   "id": "6035280b-0b3e-4e50-91a0-4b76a9711cd4",
   "metadata": {},
   "outputs": [
    {
     "name": "stdout",
     "output_type": "stream",
     "text": [
      "97/97 [==============================] - 0s 386us/step - loss: 0.0065 - accuracy: 1.0000\n"
     ]
    },
    {
     "data": {
      "text/plain": [
       "[0.0064628045074641705, 1.0]"
      ]
     },
     "execution_count": 15,
     "metadata": {},
     "output_type": "execute_result"
    }
   ],
   "source": [
    "model.evaluate(test_features[features_column], test_labels)"
   ]
  },
  {
   "cell_type": "code",
   "execution_count": 16,
   "id": "c651420b-0b60-47fc-b07f-9eb578675ff7",
   "metadata": {},
   "outputs": [
    {
     "name": "stdout",
     "output_type": "stream",
     "text": [
      "INFO:tensorflow:Assets written to: model_immunizations\\assets\n"
     ]
    }
   ],
   "source": [
    "model.save('model_immunizations')"
   ]
  },
  {
   "cell_type": "code",
   "execution_count": null,
   "id": "5e49259f-42d3-417b-8427-1216d1ec6a8f",
   "metadata": {},
   "outputs": [],
   "source": []
  }
 ],
 "metadata": {
  "kernelspec": {
   "display_name": "Python 3",
   "language": "python",
   "name": "python3"
  },
  "language_info": {
   "codemirror_mode": {
    "name": "ipython",
    "version": 3
   },
   "file_extension": ".py",
   "mimetype": "text/x-python",
   "name": "python",
   "nbconvert_exporter": "python",
   "pygments_lexer": "ipython3",
   "version": "3.8.8"
  }
 },
 "nbformat": 4,
 "nbformat_minor": 5
}

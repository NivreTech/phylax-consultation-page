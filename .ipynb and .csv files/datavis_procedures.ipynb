{
 "cells": [
  {
   "cell_type": "code",
   "execution_count": 1,
   "id": "75862dfa",
   "metadata": {},
   "outputs": [],
   "source": [
    "import pandas as pd\n",
    "import numpy as np\n",
    "from scipy.stats import chi2_contingency\n",
    "from datetime import datetime\n",
    "import seaborn as sns\n",
    "import matplotlib.pyplot as plt\n",
    "from tensorflow import keras\n",
    "from tensorflow.keras import layers\n",
    "import tensorflow as tf"
   ]
  },
  {
   "cell_type": "code",
   "execution_count": 2,
   "id": "e8d3c2a9",
   "metadata": {},
   "outputs": [
    {
     "data": {
      "text/html": [
       "<div>\n",
       "<style scoped>\n",
       "    .dataframe tbody tr th:only-of-type {\n",
       "        vertical-align: middle;\n",
       "    }\n",
       "\n",
       "    .dataframe tbody tr th {\n",
       "        vertical-align: top;\n",
       "    }\n",
       "\n",
       "    .dataframe thead th {\n",
       "        text-align: right;\n",
       "    }\n",
       "</style>\n",
       "<table border=\"1\" class=\"dataframe\">\n",
       "  <thead>\n",
       "    <tr style=\"text-align: right;\">\n",
       "      <th></th>\n",
       "      <th>Id</th>\n",
       "      <th>BIRTHDATE</th>\n",
       "      <th>DEATHDATE</th>\n",
       "      <th>SSN</th>\n",
       "      <th>DRIVERS</th>\n",
       "      <th>PASSPORT</th>\n",
       "      <th>PREFIX</th>\n",
       "      <th>FIRST</th>\n",
       "      <th>LAST</th>\n",
       "      <th>SUFFIX</th>\n",
       "      <th>...</th>\n",
       "      <th>HEALTHCARE_EXPENSES</th>\n",
       "      <th>HEALTHCARE_COVERAGE</th>\n",
       "      <th>DATE</th>\n",
       "      <th>PATIENT</th>\n",
       "      <th>ENCOUNTER</th>\n",
       "      <th>CODE</th>\n",
       "      <th>DESCRIPTION</th>\n",
       "      <th>BASE_COST</th>\n",
       "      <th>REASONCODE</th>\n",
       "      <th>REASONDESCRIPTION</th>\n",
       "    </tr>\n",
       "  </thead>\n",
       "  <tbody>\n",
       "    <tr>\n",
       "      <th>0</th>\n",
       "      <td>1d604da9-9a81-4ba9-80c2-de3375d59b40</td>\n",
       "      <td>1989-05-25</td>\n",
       "      <td>NaN</td>\n",
       "      <td>999-76-6866</td>\n",
       "      <td>S99984236</td>\n",
       "      <td>X19277260X</td>\n",
       "      <td>Mr.</td>\n",
       "      <td>José Eduardo181</td>\n",
       "      <td>Gómez206</td>\n",
       "      <td>NaN</td>\n",
       "      <td>...</td>\n",
       "      <td>271227.08</td>\n",
       "      <td>1334.88</td>\n",
       "      <td>2017-08-03 15:02:18+00:00</td>\n",
       "      <td>1d604da9-9a81-4ba9-80c2-de3375d59b40</td>\n",
       "      <td>de573182-8235-4b15-ae99-4c75c6a5b0d4</td>\n",
       "      <td>430193006</td>\n",
       "      <td>Medication Reconciliation (procedure)</td>\n",
       "      <td>416.69</td>\n",
       "      <td>NaN</td>\n",
       "      <td>NaN</td>\n",
       "    </tr>\n",
       "    <tr>\n",
       "      <th>1</th>\n",
       "      <td>034e9e3b-2def-4559-bb2a-7850888ae060</td>\n",
       "      <td>1983-11-14</td>\n",
       "      <td>NaN</td>\n",
       "      <td>999-73-5361</td>\n",
       "      <td>S99962402</td>\n",
       "      <td>X88275464X</td>\n",
       "      <td>Mr.</td>\n",
       "      <td>Milo271</td>\n",
       "      <td>Feil794</td>\n",
       "      <td>NaN</td>\n",
       "      <td>...</td>\n",
       "      <td>793946.01</td>\n",
       "      <td>3204.49</td>\n",
       "      <td>2015-01-26 17:45:28+00:00</td>\n",
       "      <td>034e9e3b-2def-4559-bb2a-7850888ae060</td>\n",
       "      <td>e3639187-450a-4aa9-9fc9-3ea3cafa672b</td>\n",
       "      <td>430193006</td>\n",
       "      <td>Medication Reconciliation (procedure)</td>\n",
       "      <td>551.78</td>\n",
       "      <td>NaN</td>\n",
       "      <td>NaN</td>\n",
       "    </tr>\n",
       "    <tr>\n",
       "      <th>2</th>\n",
       "      <td>034e9e3b-2def-4559-bb2a-7850888ae060</td>\n",
       "      <td>1983-11-14</td>\n",
       "      <td>NaN</td>\n",
       "      <td>999-73-5361</td>\n",
       "      <td>S99962402</td>\n",
       "      <td>X88275464X</td>\n",
       "      <td>Mr.</td>\n",
       "      <td>Milo271</td>\n",
       "      <td>Feil794</td>\n",
       "      <td>NaN</td>\n",
       "      <td>...</td>\n",
       "      <td>793946.01</td>\n",
       "      <td>3204.49</td>\n",
       "      <td>2017-01-09 17:45:28+00:00</td>\n",
       "      <td>034e9e3b-2def-4559-bb2a-7850888ae060</td>\n",
       "      <td>4607e1a1-f2bb-42c8-a2fd-8709331a935d</td>\n",
       "      <td>430193006</td>\n",
       "      <td>Medication Reconciliation (procedure)</td>\n",
       "      <td>585.69</td>\n",
       "      <td>NaN</td>\n",
       "      <td>NaN</td>\n",
       "    </tr>\n",
       "    <tr>\n",
       "      <th>3</th>\n",
       "      <td>10339b10-3cd1-4ac3-ac13-ec26728cb592</td>\n",
       "      <td>1992-06-02</td>\n",
       "      <td>NaN</td>\n",
       "      <td>999-27-3385</td>\n",
       "      <td>S99972682</td>\n",
       "      <td>X73754411X</td>\n",
       "      <td>Mr.</td>\n",
       "      <td>Jayson808</td>\n",
       "      <td>Fadel536</td>\n",
       "      <td>NaN</td>\n",
       "      <td>...</td>\n",
       "      <td>574111.90</td>\n",
       "      <td>2606.40</td>\n",
       "      <td>2010-07-27 12:58:08+00:00</td>\n",
       "      <td>10339b10-3cd1-4ac3-ac13-ec26728cb592</td>\n",
       "      <td>dae2b7cb-1316-4b78-954f-fa610a6c6d0e</td>\n",
       "      <td>430193006</td>\n",
       "      <td>Medication Reconciliation (procedure)</td>\n",
       "      <td>726.51</td>\n",
       "      <td>NaN</td>\n",
       "      <td>NaN</td>\n",
       "    </tr>\n",
       "    <tr>\n",
       "      <th>4</th>\n",
       "      <td>10339b10-3cd1-4ac3-ac13-ec26728cb592</td>\n",
       "      <td>1992-06-02</td>\n",
       "      <td>NaN</td>\n",
       "      <td>999-27-3385</td>\n",
       "      <td>S99972682</td>\n",
       "      <td>X73754411X</td>\n",
       "      <td>Mr.</td>\n",
       "      <td>Jayson808</td>\n",
       "      <td>Fadel536</td>\n",
       "      <td>NaN</td>\n",
       "      <td>...</td>\n",
       "      <td>574111.90</td>\n",
       "      <td>2606.40</td>\n",
       "      <td>2017-01-22 12:58:08+00:00</td>\n",
       "      <td>10339b10-3cd1-4ac3-ac13-ec26728cb592</td>\n",
       "      <td>4ec8d55b-05fc-42a5-bfa3-1e233874a362</td>\n",
       "      <td>288086009</td>\n",
       "      <td>Suture open wound</td>\n",
       "      <td>11354.55</td>\n",
       "      <td>284551006.0</td>\n",
       "      <td>Laceration of foot</td>\n",
       "    </tr>\n",
       "  </tbody>\n",
       "</table>\n",
       "<p>5 rows × 33 columns</p>\n",
       "</div>"
      ],
      "text/plain": [
       "                                     Id   BIRTHDATE DEATHDATE          SSN  \\\n",
       "0  1d604da9-9a81-4ba9-80c2-de3375d59b40  1989-05-25       NaN  999-76-6866   \n",
       "1  034e9e3b-2def-4559-bb2a-7850888ae060  1983-11-14       NaN  999-73-5361   \n",
       "2  034e9e3b-2def-4559-bb2a-7850888ae060  1983-11-14       NaN  999-73-5361   \n",
       "3  10339b10-3cd1-4ac3-ac13-ec26728cb592  1992-06-02       NaN  999-27-3385   \n",
       "4  10339b10-3cd1-4ac3-ac13-ec26728cb592  1992-06-02       NaN  999-27-3385   \n",
       "\n",
       "     DRIVERS    PASSPORT PREFIX            FIRST      LAST SUFFIX  ...  \\\n",
       "0  S99984236  X19277260X    Mr.  José Eduardo181  Gómez206    NaN  ...   \n",
       "1  S99962402  X88275464X    Mr.          Milo271   Feil794    NaN  ...   \n",
       "2  S99962402  X88275464X    Mr.          Milo271   Feil794    NaN  ...   \n",
       "3  S99972682  X73754411X    Mr.        Jayson808  Fadel536    NaN  ...   \n",
       "4  S99972682  X73754411X    Mr.        Jayson808  Fadel536    NaN  ...   \n",
       "\n",
       "  HEALTHCARE_EXPENSES HEALTHCARE_COVERAGE                      DATE  \\\n",
       "0           271227.08             1334.88 2017-08-03 15:02:18+00:00   \n",
       "1           793946.01             3204.49 2015-01-26 17:45:28+00:00   \n",
       "2           793946.01             3204.49 2017-01-09 17:45:28+00:00   \n",
       "3           574111.90             2606.40 2010-07-27 12:58:08+00:00   \n",
       "4           574111.90             2606.40 2017-01-22 12:58:08+00:00   \n",
       "\n",
       "                                PATIENT                             ENCOUNTER  \\\n",
       "0  1d604da9-9a81-4ba9-80c2-de3375d59b40  de573182-8235-4b15-ae99-4c75c6a5b0d4   \n",
       "1  034e9e3b-2def-4559-bb2a-7850888ae060  e3639187-450a-4aa9-9fc9-3ea3cafa672b   \n",
       "2  034e9e3b-2def-4559-bb2a-7850888ae060  4607e1a1-f2bb-42c8-a2fd-8709331a935d   \n",
       "3  10339b10-3cd1-4ac3-ac13-ec26728cb592  dae2b7cb-1316-4b78-954f-fa610a6c6d0e   \n",
       "4  10339b10-3cd1-4ac3-ac13-ec26728cb592  4ec8d55b-05fc-42a5-bfa3-1e233874a362   \n",
       "\n",
       "        CODE                            DESCRIPTION BASE_COST   REASONCODE  \\\n",
       "0  430193006  Medication Reconciliation (procedure)    416.69          NaN   \n",
       "1  430193006  Medication Reconciliation (procedure)    551.78          NaN   \n",
       "2  430193006  Medication Reconciliation (procedure)    585.69          NaN   \n",
       "3  430193006  Medication Reconciliation (procedure)    726.51          NaN   \n",
       "4  288086009                      Suture open wound  11354.55  284551006.0   \n",
       "\n",
       "    REASONDESCRIPTION  \n",
       "0                 NaN  \n",
       "1                 NaN  \n",
       "2                 NaN  \n",
       "3                 NaN  \n",
       "4  Laceration of foot  \n",
       "\n",
       "[5 rows x 33 columns]"
      ]
     },
     "execution_count": 2,
     "metadata": {},
     "output_type": "execute_result"
    }
   ],
   "source": [
    "df1 = pd.read_csv('patients.csv')\n",
    "df2 = pd.read_csv('procedures.csv', parse_dates=['DATE'])\n",
    "df_al = df1.merge(df2, left_on = 'Id', right_on = 'PATIENT')\n",
    "df_al.head()"
   ]
  },
  {
   "cell_type": "code",
   "execution_count": 3,
   "id": "08f2226a",
   "metadata": {},
   "outputs": [
    {
     "data": {
      "text/plain": [
       "<DatetimeArray>\n",
       "['2017-08-03 15:02:18+00:00', '2015-01-26 17:45:28+00:00',\n",
       " '2017-01-09 17:45:28+00:00', '2010-07-27 12:58:08+00:00',\n",
       " '2017-01-22 12:58:08+00:00', '2017-08-08 12:58:08+00:00',\n",
       " '2019-04-23 12:58:08+00:00', '2019-05-07 12:58:08+00:00',\n",
       " '2011-04-30 00:26:23+00:00', '2013-04-23 00:26:23+00:00',\n",
       " ...\n",
       " '1987-09-27 17:27:52+00:00', '1988-01-16 17:27:52+00:00',\n",
       " '1988-03-25 17:27:52+00:00', '1989-03-20 17:27:52+00:00',\n",
       " '1990-03-15 17:27:52+00:00', '2010-05-22 17:27:52+00:00',\n",
       " '2013-06-08 17:27:52+00:00', '2015-06-20 17:27:52+00:00',\n",
       " '2017-07-01 17:27:52+00:00', '2019-07-13 17:27:52+00:00']\n",
       "Length: 20632, dtype: datetime64[ns, UTC]"
      ]
     },
     "execution_count": 3,
     "metadata": {},
     "output_type": "execute_result"
    }
   ],
   "source": [
    "dt_stop = df_al['DATE'].dropna()\n",
    "dt_stop = dt_stop.unique()\n",
    "dt_stop"
   ]
  },
  {
   "cell_type": "code",
   "execution_count": 4,
   "id": "8e319b51",
   "metadata": {},
   "outputs": [
    {
     "data": {
      "text/plain": [
       "0        1\n",
       "1        1\n",
       "2        1\n",
       "3        1\n",
       "4        1\n",
       "        ..\n",
       "34976    1\n",
       "34977    1\n",
       "34978    1\n",
       "34979    1\n",
       "34980    1\n",
       "Name: DATE, Length: 34981, dtype: int64"
      ]
     },
     "execution_count": 4,
     "metadata": {},
     "output_type": "execute_result"
    }
   ],
   "source": [
    "df_al['DATE'] = df_al['DATE'].replace(dt_stop, np.full(len(dt_stop), 1))\n",
    "df_al['DATE'] = df_al['DATE'].replace({pd.NaT: \"0\"})\n",
    "df_al['DATE']"
   ]
  },
  {
   "cell_type": "code",
   "execution_count": 5,
   "id": "567e7193",
   "metadata": {},
   "outputs": [
    {
     "data": {
      "text/html": [
       "<div>\n",
       "<style scoped>\n",
       "    .dataframe tbody tr th:only-of-type {\n",
       "        vertical-align: middle;\n",
       "    }\n",
       "\n",
       "    .dataframe tbody tr th {\n",
       "        vertical-align: top;\n",
       "    }\n",
       "\n",
       "    .dataframe thead th {\n",
       "        text-align: right;\n",
       "    }\n",
       "</style>\n",
       "<table border=\"1\" class=\"dataframe\">\n",
       "  <thead>\n",
       "    <tr style=\"text-align: right;\">\n",
       "      <th>REASONDESCRIPTION</th>\n",
       "      <th>Acute bronchitis (disorder)</th>\n",
       "      <th>Acute viral pharyngitis (disorder)</th>\n",
       "      <th>Appendicitis</th>\n",
       "      <th>Atrial Fibrillation</th>\n",
       "      <th>Bullet wound</th>\n",
       "      <th>Cardiac Arrest</th>\n",
       "      <th>Child attention deficit disorder</th>\n",
       "      <th>Childhood asthma</th>\n",
       "      <th>Chronic obstructive bronchitis (disorder)</th>\n",
       "      <th>Closed fracture of hip</th>\n",
       "      <th>...</th>\n",
       "      <th>Primary malignant neoplasm of colon</th>\n",
       "      <th>Primary small cell malignant neoplasm of lung  TNM stage 1 (disorder)</th>\n",
       "      <th>Pulmonary emphysema (disorder)</th>\n",
       "      <th>Recurrent rectal polyp</th>\n",
       "      <th>Rupture of patellar tendon</th>\n",
       "      <th>Secondary malignant neoplasm of colon</th>\n",
       "      <th>Streptococcal sore throat (disorder)</th>\n",
       "      <th>Stroke</th>\n",
       "      <th>Suspected lung cancer (situation)</th>\n",
       "      <th>Tubal pregnancy</th>\n",
       "    </tr>\n",
       "    <tr>\n",
       "      <th>DATE</th>\n",
       "      <th></th>\n",
       "      <th></th>\n",
       "      <th></th>\n",
       "      <th></th>\n",
       "      <th></th>\n",
       "      <th></th>\n",
       "      <th></th>\n",
       "      <th></th>\n",
       "      <th></th>\n",
       "      <th></th>\n",
       "      <th></th>\n",
       "      <th></th>\n",
       "      <th></th>\n",
       "      <th></th>\n",
       "      <th></th>\n",
       "      <th></th>\n",
       "      <th></th>\n",
       "      <th></th>\n",
       "      <th></th>\n",
       "      <th></th>\n",
       "      <th></th>\n",
       "    </tr>\n",
       "  </thead>\n",
       "  <tbody>\n",
       "    <tr>\n",
       "      <th>1</th>\n",
       "      <td>440</td>\n",
       "      <td>241</td>\n",
       "      <td>9</td>\n",
       "      <td>1231</td>\n",
       "      <td>1</td>\n",
       "      <td>48</td>\n",
       "      <td>266</td>\n",
       "      <td>14</td>\n",
       "      <td>123</td>\n",
       "      <td>12</td>\n",
       "      <td>...</td>\n",
       "      <td>1</td>\n",
       "      <td>32</td>\n",
       "      <td>276</td>\n",
       "      <td>16</td>\n",
       "      <td>7</td>\n",
       "      <td>22</td>\n",
       "      <td>75</td>\n",
       "      <td>60</td>\n",
       "      <td>45</td>\n",
       "      <td>1</td>\n",
       "    </tr>\n",
       "  </tbody>\n",
       "</table>\n",
       "<p>1 rows × 42 columns</p>\n",
       "</div>"
      ],
      "text/plain": [
       "REASONDESCRIPTION  Acute bronchitis (disorder)  \\\n",
       "DATE                                             \n",
       "1                                          440   \n",
       "\n",
       "REASONDESCRIPTION  Acute viral pharyngitis (disorder)  Appendicitis  \\\n",
       "DATE                                                                  \n",
       "1                                                 241             9   \n",
       "\n",
       "REASONDESCRIPTION  Atrial Fibrillation  Bullet wound  Cardiac Arrest  \\\n",
       "DATE                                                                   \n",
       "1                                 1231             1              48   \n",
       "\n",
       "REASONDESCRIPTION  Child attention deficit disorder  Childhood asthma  \\\n",
       "DATE                                                                    \n",
       "1                                               266                14   \n",
       "\n",
       "REASONDESCRIPTION  Chronic obstructive bronchitis (disorder)  \\\n",
       "DATE                                                           \n",
       "1                                                        123   \n",
       "\n",
       "REASONDESCRIPTION  Closed fracture of hip  ...  \\\n",
       "DATE                                       ...   \n",
       "1                                      12  ...   \n",
       "\n",
       "REASONDESCRIPTION  Primary malignant neoplasm of colon  \\\n",
       "DATE                                                     \n",
       "1                                                    1   \n",
       "\n",
       "REASONDESCRIPTION  Primary small cell malignant neoplasm of lung  TNM stage 1 (disorder)  \\\n",
       "DATE                                                                                       \n",
       "1                                                                 32                       \n",
       "\n",
       "REASONDESCRIPTION  Pulmonary emphysema (disorder)  Recurrent rectal polyp  \\\n",
       "DATE                                                                        \n",
       "1                                             276                      16   \n",
       "\n",
       "REASONDESCRIPTION  Rupture of patellar tendon  \\\n",
       "DATE                                            \n",
       "1                                           7   \n",
       "\n",
       "REASONDESCRIPTION  Secondary malignant neoplasm of colon  \\\n",
       "DATE                                                       \n",
       "1                                                     22   \n",
       "\n",
       "REASONDESCRIPTION  Streptococcal sore throat (disorder)  Stroke  \\\n",
       "DATE                                                              \n",
       "1                                                    75      60   \n",
       "\n",
       "REASONDESCRIPTION  Suspected lung cancer (situation)  Tubal pregnancy  \n",
       "DATE                                                                   \n",
       "1                                                 45                1  \n",
       "\n",
       "[1 rows x 42 columns]"
      ]
     },
     "execution_count": 5,
     "metadata": {},
     "output_type": "execute_result"
    }
   ],
   "source": [
    "contigency = pd.crosstab(df_al['DATE'], df_al['REASONDESCRIPTION'])\n",
    "contigency"
   ]
  },
  {
   "cell_type": "code",
   "execution_count": 6,
   "id": "503b5581",
   "metadata": {},
   "outputs": [
    {
     "data": {
      "text/plain": [
       "<AxesSubplot:xlabel='REASONDESCRIPTION', ylabel='DATE'>"
      ]
     },
     "execution_count": 6,
     "metadata": {},
     "output_type": "execute_result"
    },
    {
     "data": {
      "image/png": "[encoded data removed]",
      "text/plain": [
       "<Figure size 1728x288 with 2 Axes>"
      ]
     },
     "metadata": {
      "needs_background": "light"
     },
     "output_type": "display_data"
    }
   ],
   "source": [
    "plt.figure(figsize=(24,4))\n",
    "sns.heatmap(contigency, annot=True, cmap=\"YlGnBu\")"
   ]
  },
  {
   "cell_type": "code",
   "execution_count": 7,
   "id": "346c4865",
   "metadata": {},
   "outputs": [
    {
     "data": {
      "text/plain": [
       "1.0"
      ]
     },
     "execution_count": 7,
     "metadata": {},
     "output_type": "execute_result"
    }
   ],
   "source": [
    "c, p, dof, expected = chi2_contingency(contigency)\n",
    "p"
   ]
  },
  {
   "cell_type": "code",
   "execution_count": 8,
   "id": "2075ab45-3431-414a-8743-0d8786c03d23",
   "metadata": {},
   "outputs": [],
   "source": [
    "features_column = ['RACE', 'ETHNICITY', 'GENDER', 'REASONDESCRIPTION']\n",
    "label_column = ['DATE']"
   ]
  },
  {
   "cell_type": "code",
   "execution_count": 9,
   "id": "ce61c367-5d9c-4690-b742-c2ee675811e0",
   "metadata": {},
   "outputs": [
    {
     "name": "stdout",
     "output_type": "stream",
     "text": [
      "{'RACE': Index(['asian', 'black', 'native', 'other', 'white'], dtype='object'), 'ETHNICITY': Index(['hispanic', 'nonhispanic'], dtype='object'), 'GENDER': Index(['F', 'M'], dtype='object'), 'REASONDESCRIPTION': Index(['Acute bronchitis (disorder)', 'Acute viral pharyngitis (disorder)',\n",
      "       'Appendicitis', 'Atrial Fibrillation', 'Bullet wound', 'Cardiac Arrest',\n",
      "       'Child attention deficit disorder', 'Childhood asthma',\n",
      "       'Chronic obstructive bronchitis (disorder)', 'Closed fracture of hip',\n",
      "       'Facial laceration', 'Fracture of ankle', 'Fracture of clavicle',\n",
      "       'Fracture of forearm', 'Fracture of rib',\n",
      "       'Fracture subluxation of wrist', 'Injury of anterior cruciate ligament',\n",
      "       'Injury of medial collateral ligament of knee',\n",
      "       'Injury of tendon of the rotator cuff of shoulder',\n",
      "       'Laceration of foot', 'Laceration of forearm', 'Laceration of hand',\n",
      "       'Laceration of thigh', 'Major depression  single episode',\n",
      "       'Malignant neoplasm of breast (disorder)', 'Malignant tumor of colon',\n",
      "       'Myocardial Infarction', 'Neoplasm of prostate',\n",
      "       'Non-small cell carcinoma of lung  TNM stage 1 (disorder)',\n",
      "       'Normal pregnancy', 'Overlapping malignant neoplasm of colon',\n",
      "       'Polyp of colon', 'Primary malignant neoplasm of colon',\n",
      "       'Primary small cell malignant neoplasm of lung  TNM stage 1 (disorder)',\n",
      "       'Pulmonary emphysema (disorder)', 'Recurrent rectal polyp',\n",
      "       'Rupture of patellar tendon', 'Secondary malignant neoplasm of colon',\n",
      "       'Streptococcal sore throat (disorder)', 'Stroke',\n",
      "       'Suspected lung cancer (situation)', 'Tubal pregnancy'],\n",
      "      dtype='object')}\n"
     ]
    },
    {
     "name": "stderr",
     "output_type": "stream",
     "text": [
      "C:\\Users\\MELOEL~1\\AppData\\Local\\Temp/ipykernel_9700/1744773145.py:2: SettingWithCopyWarning: \n",
      "A value is trying to be set on a copy of a slice from a DataFrame.\n",
      "Try using .loc[row_indexer,col_indexer] = value instead\n",
      "\n",
      "See the caveats in the documentation: https://pandas.pydata.org/pandas-docs/stable/user_guide/indexing.html#returning-a-view-versus-a-copy\n",
      "  dataset['DATE'] = dataset['DATE'].astype('int32')\n",
      "C:\\Users\\MELOEL~1\\AppData\\Local\\Temp/ipykernel_9700/1744773145.py:9: SettingWithCopyWarning: \n",
      "A value is trying to be set on a copy of a slice from a DataFrame.\n",
      "Try using .loc[row_indexer,col_indexer] = value instead\n",
      "\n",
      "See the caveats in the documentation: https://pandas.pydata.org/pandas-docs/stable/user_guide/indexing.html#returning-a-view-versus-a-copy\n",
      "  dataset[feature_name] = dataset[feature_name].astype('category')\n",
      "C:\\Users\\MELOEL~1\\AppData\\Local\\Temp/ipykernel_9700/1744773145.py:11: SettingWithCopyWarning: \n",
      "A value is trying to be set on a copy of a slice from a DataFrame.\n",
      "Try using .loc[row_indexer,col_indexer] = value instead\n",
      "\n",
      "See the caveats in the documentation: https://pandas.pydata.org/pandas-docs/stable/user_guide/indexing.html#returning-a-view-versus-a-copy\n",
      "  dataset[feature_name] = dataset[feature_name].astype('category').cat.codes\n"
     ]
    }
   ],
   "source": [
    "dataset = df_al[features_column + label_column]\n",
    "dataset['DATE'] = dataset['DATE'].astype('int32')\n",
    "\n",
    "#reference for numerical categories\n",
    "categorical_dict = {}\n",
    "\n",
    "#convert categorical data into numerical data\n",
    "for feature_name in features_column:\n",
    "    dataset[feature_name] = dataset[feature_name].astype('category')\n",
    "    categorical_dict.update({feature_name: dataset[feature_name].cat.categories})\n",
    "    dataset[feature_name] = dataset[feature_name].astype('category').cat.codes\n",
    "    \n",
    "print(categorical_dict)"
   ]
  },
  {
   "cell_type": "code",
   "execution_count": 10,
   "id": "86db55bc-3107-4cda-99e2-168dd4aac217",
   "metadata": {},
   "outputs": [],
   "source": [
    "train_dataset = dataset.sample(frac=0.8, random_state=0)\n",
    "test_dataset = dataset.drop(train_dataset.index)"
   ]
  },
  {
   "cell_type": "code",
   "execution_count": 11,
   "id": "29c7c601-3a25-4547-b749-9c3154336255",
   "metadata": {},
   "outputs": [],
   "source": [
    "train_features = train_dataset.copy()\n",
    "test_features = test_dataset.copy()\n",
    "\n",
    "train_labels = train_features.pop('DATE')\n",
    "test_labels = test_features.pop('DATE')"
   ]
  },
  {
   "cell_type": "code",
   "execution_count": 12,
   "id": "8bfde406-26be-4f38-ba12-7ff5ea8674a3",
   "metadata": {},
   "outputs": [],
   "source": [
    "def build_and_compile_model():\n",
    "  model = keras.Sequential([\n",
    "      layers.Dense(len(features_column)),\n",
    "      layers.Dense(64, activation = 'relu'),\n",
    "      layers.Dense(1)\n",
    "  ])\n",
    "\n",
    "  model.compile(loss = 'mean_absolute_error', metrics = ['accuracy'],\n",
    "                optimizer = 'adam')\n",
    "  return model"
   ]
  },
  {
   "cell_type": "code",
   "execution_count": 13,
   "id": "bdff7589-7975-4515-b443-ba2914bcc21a",
   "metadata": {},
   "outputs": [],
   "source": [
    "model = build_and_compile_model()"
   ]
  },
  {
   "cell_type": "code",
   "execution_count": 14,
   "id": "e74c968a-58cd-4a6e-8557-383d9baf2810",
   "metadata": {},
   "outputs": [
    {
     "name": "stdout",
     "output_type": "stream",
     "text": [
      "Epoch 1/100\n",
      "700/700 [==============================] - 1s 865us/step - loss: 0.0968 - accuracy: 0.9563 - val_loss: 0.0289 - val_accuracy: 1.0000\n",
      "Epoch 2/100\n",
      "700/700 [==============================] - 0s 670us/step - loss: 0.0345 - accuracy: 1.0000 - val_loss: 0.0493 - val_accuracy: 1.0000\n",
      "Epoch 3/100\n",
      "700/700 [==============================] - 0s 676us/step - loss: 0.0274 - accuracy: 1.0000 - val_loss: 0.0275 - val_accuracy: 1.0000\n",
      "Epoch 4/100\n",
      "700/700 [==============================] - 0s 627us/step - loss: 0.0175 - accuracy: 1.0000 - val_loss: 0.0097 - val_accuracy: 1.0000\n",
      "Epoch 5/100\n",
      "700/700 [==============================] - 0s 571us/step - loss: 0.0183 - accuracy: 1.0000 - val_loss: 0.0123 - val_accuracy: 1.0000\n",
      "Epoch 6/100\n",
      "700/700 [==============================] - 0s 581us/step - loss: 0.0163 - accuracy: 1.0000 - val_loss: 0.0189 - val_accuracy: 1.0000\n",
      "Epoch 7/100\n",
      "700/700 [==============================] - 0s 593us/step - loss: 0.0148 - accuracy: 1.0000 - val_loss: 0.0029 - val_accuracy: 1.0000\n",
      "Epoch 8/100\n",
      "700/700 [==============================] - 0s 571us/step - loss: 0.0137 - accuracy: 1.0000 - val_loss: 0.0048 - val_accuracy: 1.0000\n",
      "Epoch 9/100\n",
      "700/700 [==============================] - 0s 591us/step - loss: 0.0139 - accuracy: 1.0000 - val_loss: 0.0300 - val_accuracy: 1.0000\n",
      "Epoch 10/100\n",
      "700/700 [==============================] - 0s 586us/step - loss: 0.0133 - accuracy: 1.0000 - val_loss: 0.0186 - val_accuracy: 1.0000\n"
     ]
    }
   ],
   "source": [
    "#fit the model\n",
    "early_stopping = tf.keras.callbacks.EarlyStopping(monitor='val_loss',\n",
    "                                            patience=3,\n",
    "                                            mode='min')\n",
    "history = model.fit(\n",
    "    train_features[features_column],\n",
    "    train_labels,\n",
    "    validation_split=0.2,\n",
    "    callbacks=early_stopping,\n",
    "    verbose=1, epochs=100)"
   ]
  },
  {
   "cell_type": "code",
   "execution_count": 15,
   "id": "4c200855-5e65-4938-aba1-aa0c5ed96698",
   "metadata": {},
   "outputs": [
    {
     "name": "stdout",
     "output_type": "stream",
     "text": [
      "219/219 [==============================] - 0s 399us/step - loss: 0.0191 - accuracy: 1.0000\n"
     ]
    },
    {
     "data": {
      "text/plain": [
       "[0.019116399809718132, 1.0]"
      ]
     },
     "execution_count": 15,
     "metadata": {},
     "output_type": "execute_result"
    }
   ],
   "source": [
    "model.evaluate(test_features[features_column], test_labels)"
   ]
  },
  {
   "cell_type": "code",
   "execution_count": 16,
   "id": "b1bb037c-b1db-47e9-a0f1-ef2a154cdb6f",
   "metadata": {},
   "outputs": [
    {
     "name": "stdout",
     "output_type": "stream",
     "text": [
      "INFO:tensorflow:Assets written to: model_procedures\\assets\n"
     ]
    }
   ],
   "source": [
    "model.save('model_procedures')"
   ]
  },
  {
   "cell_type": "code",
   "execution_count": null,
   "id": "0671a423-ea29-4ec1-85c4-7893f225ef76",
   "metadata": {},
   "outputs": [],
   "source": []
  }
 ],
 "metadata": {
  "kernelspec": {
   "display_name": "Python 3 (ipykernel)",
   "language": "python",
   "name": "python3"
  },
  "language_info": {
   "codemirror_mode": {
    "name": "ipython",
    "version": 3
   },
   "file_extension": ".py",
   "mimetype": "text/x-python",
   "name": "python",
   "nbconvert_exporter": "python",
   "pygments_lexer": "ipython3",
   "version": "3.8.12"
  }
 },
 "nbformat": 4,
 "nbformat_minor": 5
}

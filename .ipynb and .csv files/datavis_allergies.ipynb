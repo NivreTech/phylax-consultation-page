{
 "cells": [
  {
   "cell_type": "code",
   "execution_count": 1,
   "id": "26effc5d-8219-4f1d-8629-b89c009d74fa",
   "metadata": {},
   "outputs": [],
   "source": [
    "import pandas as pd\n",
    "import numpy as np\n",
    "from scipy.stats import chi2_contingency\n",
    "from datetime import datetime\n",
    "import seaborn as sns\n",
    "import matplotlib.pyplot as plt\n",
    "from tensorflow import keras\n",
    "from tensorflow.keras import layers\n",
    "import tensorflow as tf"
   ]
  },
  {
   "cell_type": "code",
   "execution_count": 2,
   "id": "d32b099b-86fa-485c-a8ca-eda241e025fa",
   "metadata": {},
   "outputs": [
    {
     "data": {
      "text/html": [
       "<div>\n",
       "<style scoped>\n",
       "    .dataframe tbody tr th:only-of-type {\n",
       "        vertical-align: middle;\n",
       "    }\n",
       "\n",
       "    .dataframe tbody tr th {\n",
       "        vertical-align: top;\n",
       "    }\n",
       "\n",
       "    .dataframe thead th {\n",
       "        text-align: right;\n",
       "    }\n",
       "</style>\n",
       "<table border=\"1\" class=\"dataframe\">\n",
       "  <thead>\n",
       "    <tr style=\"text-align: right;\">\n",
       "      <th></th>\n",
       "      <th>Id</th>\n",
       "      <th>BIRTHDATE</th>\n",
       "      <th>DEATHDATE</th>\n",
       "      <th>SSN</th>\n",
       "      <th>DRIVERS</th>\n",
       "      <th>PASSPORT</th>\n",
       "      <th>PREFIX</th>\n",
       "      <th>FIRST</th>\n",
       "      <th>LAST</th>\n",
       "      <th>SUFFIX</th>\n",
       "      <th>...</th>\n",
       "      <th>LAT</th>\n",
       "      <th>LON</th>\n",
       "      <th>HEALTHCARE_EXPENSES</th>\n",
       "      <th>HEALTHCARE_COVERAGE</th>\n",
       "      <th>START</th>\n",
       "      <th>STOP</th>\n",
       "      <th>PATIENT</th>\n",
       "      <th>ENCOUNTER</th>\n",
       "      <th>CODE</th>\n",
       "      <th>DESCRIPTION</th>\n",
       "    </tr>\n",
       "  </thead>\n",
       "  <tbody>\n",
       "    <tr>\n",
       "      <th>0</th>\n",
       "      <td>76982e06-f8b8-4509-9ca3-65a99c8650fe</td>\n",
       "      <td>1982-09-01</td>\n",
       "      <td>NaN</td>\n",
       "      <td>999-21-5604</td>\n",
       "      <td>S99957470</td>\n",
       "      <td>X55072337X</td>\n",
       "      <td>Ms.</td>\n",
       "      <td>Christal240</td>\n",
       "      <td>Brown30</td>\n",
       "      <td>NaN</td>\n",
       "      <td>...</td>\n",
       "      <td>42.284598</td>\n",
       "      <td>-71.134497</td>\n",
       "      <td>779464.29</td>\n",
       "      <td>11713.81</td>\n",
       "      <td>1982-10-25</td>\n",
       "      <td>NaT</td>\n",
       "      <td>76982e06-f8b8-4509-9ca3-65a99c8650fe</td>\n",
       "      <td>b896bf40-8b72-42b7-b205-142ee3a56b55</td>\n",
       "      <td>300916003</td>\n",
       "      <td>Latex allergy</td>\n",
       "    </tr>\n",
       "    <tr>\n",
       "      <th>1</th>\n",
       "      <td>76982e06-f8b8-4509-9ca3-65a99c8650fe</td>\n",
       "      <td>1982-09-01</td>\n",
       "      <td>NaN</td>\n",
       "      <td>999-21-5604</td>\n",
       "      <td>S99957470</td>\n",
       "      <td>X55072337X</td>\n",
       "      <td>Ms.</td>\n",
       "      <td>Christal240</td>\n",
       "      <td>Brown30</td>\n",
       "      <td>NaN</td>\n",
       "      <td>...</td>\n",
       "      <td>42.284598</td>\n",
       "      <td>-71.134497</td>\n",
       "      <td>779464.29</td>\n",
       "      <td>11713.81</td>\n",
       "      <td>1982-10-25</td>\n",
       "      <td>NaT</td>\n",
       "      <td>76982e06-f8b8-4509-9ca3-65a99c8650fe</td>\n",
       "      <td>b896bf40-8b72-42b7-b205-142ee3a56b55</td>\n",
       "      <td>300913006</td>\n",
       "      <td>Shellfish allergy</td>\n",
       "    </tr>\n",
       "    <tr>\n",
       "      <th>2</th>\n",
       "      <td>71ba0469-f0cc-4177-ac70-ea07cb01c8b8</td>\n",
       "      <td>2000-11-21</td>\n",
       "      <td>2012-11-21</td>\n",
       "      <td>999-28-2716</td>\n",
       "      <td>NaN</td>\n",
       "      <td>NaN</td>\n",
       "      <td>NaN</td>\n",
       "      <td>Carmelia328</td>\n",
       "      <td>Konopelski743</td>\n",
       "      <td>NaN</td>\n",
       "      <td>...</td>\n",
       "      <td>42.291986</td>\n",
       "      <td>-71.463724</td>\n",
       "      <td>268920.58</td>\n",
       "      <td>9406.69</td>\n",
       "      <td>2002-01-25</td>\n",
       "      <td>NaT</td>\n",
       "      <td>71ba0469-f0cc-4177-ac70-ea07cb01c8b8</td>\n",
       "      <td>7be1a590-4239-4826-9872-031327f3c368</td>\n",
       "      <td>419474003</td>\n",
       "      <td>Allergy to mould</td>\n",
       "    </tr>\n",
       "    <tr>\n",
       "      <th>3</th>\n",
       "      <td>71ba0469-f0cc-4177-ac70-ea07cb01c8b8</td>\n",
       "      <td>2000-11-21</td>\n",
       "      <td>2012-11-21</td>\n",
       "      <td>999-28-2716</td>\n",
       "      <td>NaN</td>\n",
       "      <td>NaN</td>\n",
       "      <td>NaN</td>\n",
       "      <td>Carmelia328</td>\n",
       "      <td>Konopelski743</td>\n",
       "      <td>NaN</td>\n",
       "      <td>...</td>\n",
       "      <td>42.291986</td>\n",
       "      <td>-71.463724</td>\n",
       "      <td>268920.58</td>\n",
       "      <td>9406.69</td>\n",
       "      <td>2002-01-25</td>\n",
       "      <td>NaT</td>\n",
       "      <td>71ba0469-f0cc-4177-ac70-ea07cb01c8b8</td>\n",
       "      <td>7be1a590-4239-4826-9872-031327f3c368</td>\n",
       "      <td>232347008</td>\n",
       "      <td>Dander (animal) allergy</td>\n",
       "    </tr>\n",
       "    <tr>\n",
       "      <th>4</th>\n",
       "      <td>71ba0469-f0cc-4177-ac70-ea07cb01c8b8</td>\n",
       "      <td>2000-11-21</td>\n",
       "      <td>2012-11-21</td>\n",
       "      <td>999-28-2716</td>\n",
       "      <td>NaN</td>\n",
       "      <td>NaN</td>\n",
       "      <td>NaN</td>\n",
       "      <td>Carmelia328</td>\n",
       "      <td>Konopelski743</td>\n",
       "      <td>NaN</td>\n",
       "      <td>...</td>\n",
       "      <td>42.291986</td>\n",
       "      <td>-71.463724</td>\n",
       "      <td>268920.58</td>\n",
       "      <td>9406.69</td>\n",
       "      <td>2002-01-25</td>\n",
       "      <td>NaT</td>\n",
       "      <td>71ba0469-f0cc-4177-ac70-ea07cb01c8b8</td>\n",
       "      <td>7be1a590-4239-4826-9872-031327f3c368</td>\n",
       "      <td>418689008</td>\n",
       "      <td>Allergy to grass pollen</td>\n",
       "    </tr>\n",
       "  </tbody>\n",
       "</table>\n",
       "<p>5 rows × 31 columns</p>\n",
       "</div>"
      ],
      "text/plain": [
       "                                     Id   BIRTHDATE   DEATHDATE          SSN  \\\n",
       "0  76982e06-f8b8-4509-9ca3-65a99c8650fe  1982-09-01         NaN  999-21-5604   \n",
       "1  76982e06-f8b8-4509-9ca3-65a99c8650fe  1982-09-01         NaN  999-21-5604   \n",
       "2  71ba0469-f0cc-4177-ac70-ea07cb01c8b8  2000-11-21  2012-11-21  999-28-2716   \n",
       "3  71ba0469-f0cc-4177-ac70-ea07cb01c8b8  2000-11-21  2012-11-21  999-28-2716   \n",
       "4  71ba0469-f0cc-4177-ac70-ea07cb01c8b8  2000-11-21  2012-11-21  999-28-2716   \n",
       "\n",
       "     DRIVERS    PASSPORT PREFIX        FIRST           LAST SUFFIX  ...  \\\n",
       "0  S99957470  X55072337X    Ms.  Christal240        Brown30    NaN  ...   \n",
       "1  S99957470  X55072337X    Ms.  Christal240        Brown30    NaN  ...   \n",
       "2        NaN         NaN    NaN  Carmelia328  Konopelski743    NaN  ...   \n",
       "3        NaN         NaN    NaN  Carmelia328  Konopelski743    NaN  ...   \n",
       "4        NaN         NaN    NaN  Carmelia328  Konopelski743    NaN  ...   \n",
       "\n",
       "         LAT        LON HEALTHCARE_EXPENSES HEALTHCARE_COVERAGE       START  \\\n",
       "0  42.284598 -71.134497           779464.29            11713.81  1982-10-25   \n",
       "1  42.284598 -71.134497           779464.29            11713.81  1982-10-25   \n",
       "2  42.291986 -71.463724           268920.58             9406.69  2002-01-25   \n",
       "3  42.291986 -71.463724           268920.58             9406.69  2002-01-25   \n",
       "4  42.291986 -71.463724           268920.58             9406.69  2002-01-25   \n",
       "\n",
       "  STOP                               PATIENT  \\\n",
       "0  NaT  76982e06-f8b8-4509-9ca3-65a99c8650fe   \n",
       "1  NaT  76982e06-f8b8-4509-9ca3-65a99c8650fe   \n",
       "2  NaT  71ba0469-f0cc-4177-ac70-ea07cb01c8b8   \n",
       "3  NaT  71ba0469-f0cc-4177-ac70-ea07cb01c8b8   \n",
       "4  NaT  71ba0469-f0cc-4177-ac70-ea07cb01c8b8   \n",
       "\n",
       "                              ENCOUNTER       CODE              DESCRIPTION  \n",
       "0  b896bf40-8b72-42b7-b205-142ee3a56b55  300916003            Latex allergy  \n",
       "1  b896bf40-8b72-42b7-b205-142ee3a56b55  300913006        Shellfish allergy  \n",
       "2  7be1a590-4239-4826-9872-031327f3c368  419474003         Allergy to mould  \n",
       "3  7be1a590-4239-4826-9872-031327f3c368  232347008  Dander (animal) allergy  \n",
       "4  7be1a590-4239-4826-9872-031327f3c368  418689008  Allergy to grass pollen  \n",
       "\n",
       "[5 rows x 31 columns]"
      ]
     },
     "execution_count": 2,
     "metadata": {},
     "output_type": "execute_result"
    }
   ],
   "source": [
    "df1 = pd.read_csv('patients.csv')\n",
    "df2 = pd.read_csv('allergies.csv', parse_dates=['STOP'])\n",
    "df_al = df1.merge(df2, left_on = 'Id', right_on = 'PATIENT')\n",
    "df_al.head()"
   ]
  },
  {
   "cell_type": "code",
   "execution_count": 3,
   "id": "4a1e8337-345c-4d8b-8c7d-3a4f9fa9822c",
   "metadata": {
    "scrolled": true
   },
   "outputs": [
    {
     "data": {
      "text/plain": [
       "array(['2014-03-20T00:00:00.000000000', '2018-01-30T00:00:00.000000000',\n",
       "       '2019-12-30T00:00:00.000000000', '2010-09-01T00:00:00.000000000',\n",
       "       '2013-06-25T00:00:00.000000000', '2013-12-18T00:00:00.000000000',\n",
       "       '2015-11-30T00:00:00.000000000', '2019-09-12T00:00:00.000000000',\n",
       "       '2019-08-03T00:00:00.000000000', '1993-07-10T00:00:00.000000000',\n",
       "       '2010-10-28T00:00:00.000000000', '2020-03-21T00:00:00.000000000',\n",
       "       '2011-02-03T00:00:00.000000000', '2018-12-17T00:00:00.000000000',\n",
       "       '2018-11-22T00:00:00.000000000', '2019-10-21T00:00:00.000000000',\n",
       "       '2017-01-31T00:00:00.000000000', '2016-11-21T00:00:00.000000000',\n",
       "       '2018-04-11T00:00:00.000000000', '2019-12-25T00:00:00.000000000',\n",
       "       '2011-03-09T00:00:00.000000000', '2014-02-05T00:00:00.000000000',\n",
       "       '2015-10-05T00:00:00.000000000', '2016-04-04T00:00:00.000000000',\n",
       "       '2015-06-13T00:00:00.000000000', '2018-09-08T00:00:00.000000000',\n",
       "       '2019-05-02T00:00:00.000000000', '2016-09-18T00:00:00.000000000',\n",
       "       '2016-06-25T00:00:00.000000000'], dtype='datetime64[ns]')"
      ]
     },
     "execution_count": 3,
     "metadata": {},
     "output_type": "execute_result"
    }
   ],
   "source": [
    "dt_stop = df_al['STOP'].dropna()\n",
    "dt_stop = dt_stop.unique()\n",
    "dt_stop"
   ]
  },
  {
   "cell_type": "code",
   "execution_count": 4,
   "id": "9d248290",
   "metadata": {},
   "outputs": [
    {
     "data": {
      "text/plain": [
       "0      0\n",
       "1      0\n",
       "2      0\n",
       "3      0\n",
       "4      0\n",
       "      ..\n",
       "592    0\n",
       "593    0\n",
       "594    0\n",
       "595    0\n",
       "596    0\n",
       "Name: STOP, Length: 597, dtype: object"
      ]
     },
     "execution_count": 4,
     "metadata": {},
     "output_type": "execute_result"
    }
   ],
   "source": [
    "df_al['STOP'] = df_al['STOP'].replace(dt_stop, np.full(len(dt_stop), 1))\n",
    "df_al['STOP'] = df_al['STOP'].replace({pd.NaT: \"0\"})\n",
    "df_al['STOP']"
   ]
  },
  {
   "cell_type": "code",
   "execution_count": 5,
   "id": "4db8c5d2",
   "metadata": {},
   "outputs": [
    {
     "data": {
      "text/html": [
       "<div>\n",
       "<style scoped>\n",
       "    .dataframe tbody tr th:only-of-type {\n",
       "        vertical-align: middle;\n",
       "    }\n",
       "\n",
       "    .dataframe tbody tr th {\n",
       "        vertical-align: top;\n",
       "    }\n",
       "\n",
       "    .dataframe thead th {\n",
       "        text-align: right;\n",
       "    }\n",
       "</style>\n",
       "<table border=\"1\" class=\"dataframe\">\n",
       "  <thead>\n",
       "    <tr style=\"text-align: right;\">\n",
       "      <th>DESCRIPTION</th>\n",
       "      <th>Allergy to bee venom</th>\n",
       "      <th>Allergy to dairy product</th>\n",
       "      <th>Allergy to eggs</th>\n",
       "      <th>Allergy to fish</th>\n",
       "      <th>Allergy to grass pollen</th>\n",
       "      <th>Allergy to mould</th>\n",
       "      <th>Allergy to nut</th>\n",
       "      <th>Allergy to peanuts</th>\n",
       "      <th>Allergy to soya</th>\n",
       "      <th>Allergy to tree pollen</th>\n",
       "      <th>Allergy to wheat</th>\n",
       "      <th>Dander (animal) allergy</th>\n",
       "      <th>House dust mite allergy</th>\n",
       "      <th>Latex allergy</th>\n",
       "      <th>Shellfish allergy</th>\n",
       "    </tr>\n",
       "    <tr>\n",
       "      <th>STOP</th>\n",
       "      <th></th>\n",
       "      <th></th>\n",
       "      <th></th>\n",
       "      <th></th>\n",
       "      <th></th>\n",
       "      <th></th>\n",
       "      <th></th>\n",
       "      <th></th>\n",
       "      <th></th>\n",
       "      <th></th>\n",
       "      <th></th>\n",
       "      <th></th>\n",
       "      <th></th>\n",
       "      <th></th>\n",
       "      <th></th>\n",
       "    </tr>\n",
       "  </thead>\n",
       "  <tbody>\n",
       "    <tr>\n",
       "      <th>1</th>\n",
       "      <td>0</td>\n",
       "      <td>3</td>\n",
       "      <td>6</td>\n",
       "      <td>0</td>\n",
       "      <td>10</td>\n",
       "      <td>11</td>\n",
       "      <td>0</td>\n",
       "      <td>0</td>\n",
       "      <td>1</td>\n",
       "      <td>6</td>\n",
       "      <td>5</td>\n",
       "      <td>10</td>\n",
       "      <td>9</td>\n",
       "      <td>3</td>\n",
       "      <td>0</td>\n",
       "    </tr>\n",
       "    <tr>\n",
       "      <th>0</th>\n",
       "      <td>33</td>\n",
       "      <td>15</td>\n",
       "      <td>14</td>\n",
       "      <td>30</td>\n",
       "      <td>50</td>\n",
       "      <td>70</td>\n",
       "      <td>31</td>\n",
       "      <td>25</td>\n",
       "      <td>7</td>\n",
       "      <td>57</td>\n",
       "      <td>20</td>\n",
       "      <td>67</td>\n",
       "      <td>52</td>\n",
       "      <td>21</td>\n",
       "      <td>41</td>\n",
       "    </tr>\n",
       "  </tbody>\n",
       "</table>\n",
       "</div>"
      ],
      "text/plain": [
       "DESCRIPTION  Allergy to bee venom  Allergy to dairy product  Allergy to eggs  \\\n",
       "STOP                                                                           \n",
       "1                               0                         3                6   \n",
       "0                              33                        15               14   \n",
       "\n",
       "DESCRIPTION  Allergy to fish  Allergy to grass pollen  Allergy to mould  \\\n",
       "STOP                                                                      \n",
       "1                          0                       10                11   \n",
       "0                         30                       50                70   \n",
       "\n",
       "DESCRIPTION  Allergy to nut  Allergy to peanuts  Allergy to soya  \\\n",
       "STOP                                                               \n",
       "1                         0                   0                1   \n",
       "0                        31                  25                7   \n",
       "\n",
       "DESCRIPTION  Allergy to tree pollen  Allergy to wheat  \\\n",
       "STOP                                                    \n",
       "1                                 6                 5   \n",
       "0                                57                20   \n",
       "\n",
       "DESCRIPTION  Dander (animal) allergy  House dust mite allergy  Latex allergy  \\\n",
       "STOP                                                                           \n",
       "1                                 10                        9              3   \n",
       "0                                 67                       52             21   \n",
       "\n",
       "DESCRIPTION  Shellfish allergy  \n",
       "STOP                            \n",
       "1                            0  \n",
       "0                           41  "
      ]
     },
     "execution_count": 5,
     "metadata": {},
     "output_type": "execute_result"
    }
   ],
   "source": [
    "contigency = pd.crosstab(df_al['STOP'], df_al['DESCRIPTION'])\n",
    "contigency"
   ]
  },
  {
   "cell_type": "code",
   "execution_count": 6,
   "id": "6a5403ba",
   "metadata": {},
   "outputs": [
    {
     "data": {
      "text/plain": [
       "<AxesSubplot:xlabel='DESCRIPTION', ylabel='STOP'>"
      ]
     },
     "execution_count": 6,
     "metadata": {},
     "output_type": "execute_result"
    },
    {
     "data": {
      "image/png": "[encoded data removed]",
      "text/plain": [
       "<Figure size 432x288 with 2 Axes>"
      ]
     },
     "metadata": {
      "needs_background": "light"
     },
     "output_type": "display_data"
    }
   ],
   "source": [
    "plt.figure(figsize=(6,4))\n",
    "sns.heatmap(contigency, annot=True, cmap=\"YlGnBu\")"
   ]
  },
  {
   "cell_type": "code",
   "execution_count": 7,
   "id": "f172ec59",
   "metadata": {},
   "outputs": [
    {
     "data": {
      "text/plain": [
       "0.0017699786560638126"
      ]
     },
     "execution_count": 7,
     "metadata": {},
     "output_type": "execute_result"
    }
   ],
   "source": [
    "c, p, dof, expected = chi2_contingency(contigency)\n",
    "p"
   ]
  },
  {
   "cell_type": "code",
   "execution_count": 8,
   "id": "38c23a01-14b8-4020-acc0-2cb6ed24e945",
   "metadata": {},
   "outputs": [],
   "source": [
    "features_column = ['RACE', 'ETHNICITY', 'GENDER', 'DESCRIPTION']\n",
    "label_column = ['STOP']"
   ]
  },
  {
   "cell_type": "code",
   "execution_count": 9,
   "id": "f6c42270-a247-434a-8d8e-5e767f15dca9",
   "metadata": {},
   "outputs": [
    {
     "name": "stdout",
     "output_type": "stream",
     "text": [
      "{'RACE': Index(['asian', 'black', 'native', 'white'], dtype='object'), 'ETHNICITY': Index(['hispanic', 'nonhispanic'], dtype='object'), 'GENDER': Index(['F', 'M'], dtype='object'), 'DESCRIPTION': Index(['Allergy to bee venom', 'Allergy to dairy product', 'Allergy to eggs',\n",
      "       'Allergy to fish', 'Allergy to grass pollen', 'Allergy to mould',\n",
      "       'Allergy to nut', 'Allergy to peanuts', 'Allergy to soya',\n",
      "       'Allergy to tree pollen', 'Allergy to wheat', 'Dander (animal) allergy',\n",
      "       'House dust mite allergy', 'Latex allergy', 'Shellfish allergy'],\n",
      "      dtype='object')}\n"
     ]
    },
    {
     "name": "stderr",
     "output_type": "stream",
     "text": [
      "<ipython-input-9-452f4aa08d9e>:2: SettingWithCopyWarning: \n",
      "A value is trying to be set on a copy of a slice from a DataFrame.\n",
      "Try using .loc[row_indexer,col_indexer] = value instead\n",
      "\n",
      "See the caveats in the documentation: https://pandas.pydata.org/pandas-docs/stable/user_guide/indexing.html#returning-a-view-versus-a-copy\n",
      "  dataset['STOP'] = dataset['STOP'].astype('int32')\n",
      "<ipython-input-9-452f4aa08d9e>:9: SettingWithCopyWarning: \n",
      "A value is trying to be set on a copy of a slice from a DataFrame.\n",
      "Try using .loc[row_indexer,col_indexer] = value instead\n",
      "\n",
      "See the caveats in the documentation: https://pandas.pydata.org/pandas-docs/stable/user_guide/indexing.html#returning-a-view-versus-a-copy\n",
      "  dataset[feature_name] = dataset[feature_name].astype('category')\n",
      "<ipython-input-9-452f4aa08d9e>:11: SettingWithCopyWarning: \n",
      "A value is trying to be set on a copy of a slice from a DataFrame.\n",
      "Try using .loc[row_indexer,col_indexer] = value instead\n",
      "\n",
      "See the caveats in the documentation: https://pandas.pydata.org/pandas-docs/stable/user_guide/indexing.html#returning-a-view-versus-a-copy\n",
      "  dataset[feature_name] = dataset[feature_name].astype('category').cat.codes\n"
     ]
    }
   ],
   "source": [
    "dataset = df_al[features_column + label_column]\n",
    "dataset['STOP'] = dataset['STOP'].astype('int32')\n",
    "\n",
    "#reference for numerical categories\n",
    "categorical_dict = {}\n",
    "\n",
    "#convert categorical data into numerical data\n",
    "for feature_name in features_column:\n",
    "    dataset[feature_name] = dataset[feature_name].astype('category')\n",
    "    categorical_dict.update({feature_name: dataset[feature_name].cat.categories})\n",
    "    dataset[feature_name] = dataset[feature_name].astype('category').cat.codes\n",
    "    \n",
    "print(categorical_dict)"
   ]
  },
  {
   "cell_type": "code",
   "execution_count": 10,
   "id": "26762ee9-efe7-4f2f-a89c-15bbd7e96f68",
   "metadata": {},
   "outputs": [],
   "source": [
    "train_dataset = dataset.sample(frac=0.8, random_state=0)\n",
    "test_dataset = dataset.drop(train_dataset.index)"
   ]
  },
  {
   "cell_type": "code",
   "execution_count": 11,
   "id": "b5a30d11-142c-4396-b90c-295b8dd514b5",
   "metadata": {},
   "outputs": [],
   "source": [
    "train_features = train_dataset.copy()\n",
    "test_features = test_dataset.copy()\n",
    "\n",
    "train_labels = train_features.pop('STOP')\n",
    "test_labels = test_features.pop('STOP')"
   ]
  },
  {
   "cell_type": "code",
   "execution_count": 12,
   "id": "42617af8",
   "metadata": {},
   "outputs": [],
   "source": [
    "def build_and_compile_model():\n",
    "  model = keras.Sequential([\n",
    "      layers.Dense(len(features_column)),\n",
    "      layers.Dense(64, activation = 'relu'),\n",
    "      layers.Dense(1)\n",
    "  ])\n",
    "\n",
    "  model.compile(loss = 'mean_absolute_error', metrics = ['accuracy'],\n",
    "                optimizer = 'adam')\n",
    "  return model"
   ]
  },
  {
   "cell_type": "code",
   "execution_count": 13,
   "id": "a2d38441-78f3-4f3d-a402-b9ff6fc0f612",
   "metadata": {},
   "outputs": [],
   "source": [
    "model = build_and_compile_model()"
   ]
  },
  {
   "cell_type": "code",
   "execution_count": 14,
   "id": "9d86d6ff-024e-4318-840c-b9cff83822ed",
   "metadata": {},
   "outputs": [
    {
     "name": "stdout",
     "output_type": "stream",
     "text": [
      "Epoch 1/100\n",
      "12/12 [==============================] - 0s 11ms/step - loss: 0.2992 - accuracy: 0.8272 - val_loss: 0.2395 - val_accuracy: 0.8854\n",
      "Epoch 2/100\n",
      "12/12 [==============================] - 0s 2ms/step - loss: 0.1826 - accuracy: 0.8953 - val_loss: 0.1666 - val_accuracy: 0.8854\n",
      "Epoch 3/100\n",
      "12/12 [==============================] - 0s 2ms/step - loss: 0.1509 - accuracy: 0.8953 - val_loss: 0.1578 - val_accuracy: 0.8854\n",
      "Epoch 4/100\n",
      "12/12 [==============================] - 0s 2ms/step - loss: 0.1365 - accuracy: 0.8953 - val_loss: 0.1469 - val_accuracy: 0.8854\n",
      "Epoch 5/100\n",
      "12/12 [==============================] - 0s 2ms/step - loss: 0.1287 - accuracy: 0.8953 - val_loss: 0.1389 - val_accuracy: 0.8854\n",
      "Epoch 6/100\n",
      "12/12 [==============================] - 0s 2ms/step - loss: 0.1224 - accuracy: 0.8953 - val_loss: 0.1324 - val_accuracy: 0.8854\n",
      "Epoch 7/100\n",
      "12/12 [==============================] - 0s 2ms/step - loss: 0.1203 - accuracy: 0.8953 - val_loss: 0.1287 - val_accuracy: 0.8854\n",
      "Epoch 8/100\n",
      "12/12 [==============================] - 0s 2ms/step - loss: 0.1261 - accuracy: 0.8953 - val_loss: 0.1348 - val_accuracy: 0.8854\n",
      "Epoch 9/100\n",
      "12/12 [==============================] - 0s 2ms/step - loss: 0.1217 - accuracy: 0.8953 - val_loss: 0.1329 - val_accuracy: 0.8854\n",
      "Epoch 10/100\n",
      "12/12 [==============================] - 0s 2ms/step - loss: 0.1200 - accuracy: 0.8953 - val_loss: 0.1311 - val_accuracy: 0.8854\n"
     ]
    }
   ],
   "source": [
    "#fit the model\n",
    "early_stopping = tf.keras.callbacks.EarlyStopping(monitor='val_loss',\n",
    "                                            patience=3,\n",
    "                                            mode='min')\n",
    "history = model.fit(\n",
    "    train_features[features_column],\n",
    "    train_labels,\n",
    "    validation_split=0.2,\n",
    "    callbacks=early_stopping,\n",
    "    verbose=1, epochs=100)"
   ]
  },
  {
   "cell_type": "code",
   "execution_count": 15,
   "id": "d23869c0-4da3-4e3d-a21b-b138746e008d",
   "metadata": {},
   "outputs": [
    {
     "name": "stdout",
     "output_type": "stream",
     "text": [
      "4/4 [==============================] - 0s 1ms/step - loss: 0.1275 - accuracy: 0.8908\n"
     ]
    },
    {
     "data": {
      "text/plain": [
       "[0.12748493254184723, 0.8907563090324402]"
      ]
     },
     "execution_count": 15,
     "metadata": {},
     "output_type": "execute_result"
    }
   ],
   "source": [
    "model.evaluate(test_features[features_column], test_labels)"
   ]
  },
  {
   "cell_type": "code",
   "execution_count": 16,
   "id": "ef081578-ac18-4683-89a7-8682aa32021e",
   "metadata": {},
   "outputs": [
    {
     "name": "stdout",
     "output_type": "stream",
     "text": [
      "INFO:tensorflow:Assets written to: model_allergies\\assets\n"
     ]
    }
   ],
   "source": [
    "model.save('model_allergies')"
   ]
  },
  {
   "cell_type": "code",
   "execution_count": null,
   "id": "e9579008-ff0a-4687-b2e0-214395f5d4a5",
   "metadata": {},
   "outputs": [],
   "source": []
  }
 ],
 "metadata": {
  "kernelspec": {
   "display_name": "Python 3",
   "language": "python",
   "name": "python3"
  },
  "language_info": {
   "codemirror_mode": {
    "name": "ipython",
    "version": 3
   },
   "file_extension": ".py",
   "mimetype": "text/x-python",
   "name": "python",
   "nbconvert_exporter": "python",
   "pygments_lexer": "ipython3",
   "version": "3.8.8"
  }
 },
 "nbformat": 4,
 "nbformat_minor": 5
}
